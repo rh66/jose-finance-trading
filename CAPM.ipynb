{
 "cells": [
  {
   "cell_type": "markdown",
   "metadata": {},
   "source": [
    "_____________\n",
    "Practice and notes from online course: \n",
    "[Python for Financial Analysis and Algorithmic Trading](https://www.udemy.com/python-for-finance-and-trading-algorithms/learn/v4/content) <br>\n",
    "Comments are just my understanding, mostly\n",
    "# Capital Asset Pricing Model (CAPM) #\n",
    "Like the explanation of CAPM from this [link](https://www.investopedia.com/articles/06/capm.asp) : CAPM \"is by no means a perfect theory. But the spirit of CAPM is correct\". <br>\n",
    "#### * Systematic Risk (market risks), cannot be diversified away. ####\n",
    "#### * Unsystematic Risk (specific risk), can be diversified away.####\n",
    "#### For an individul stock, according to [link](https://www.investopedia.com/articles/06/capm.asp), CAPM expects the return to be: ####\n",
    "#### $ \\bar{r_a} = r_f + \\beta_a(\\bar{r_m} - r_f) $\n",
    "where $\\bar{r_a}$ is stock expected return;  $\\bar{r_m}$ the expected return of market; ${t_f}$ is risk free rate, $(\\bar{r_m} - r_f)$ is called _Equity Market Premium_. \n",
    "#### while the lecture gives the CAPM for a portfolio as :\n",
    "####  $ r_p(t) = \\beta_pr_m(t) + \\sum\\limits_{i}^{n}w_i \\alpha_i(t)$ <br>\n",
    " \n",
    "_________________\n",
    "## how to understand lecturer's $\\beta$ calcuation ##\n",
    "I am puzzled by the method, introduced by lecturer, of using stats.linregress to fit daily return data to calculate $\\beta$ using market data. With the example of comparing AAPL daily returns to SPY daily returns, using 7 years data for the fitting, the β with (SPY, AAPL) as independent and dependent variables, and the β with (AAPL, SPY) as independent and dependent variables, are not reciprocal to each other. That seems telling me that such linregress is not the right way to calculate β (Or the $\\beta$ does not have the exact same meaning as in CAPM). This does not work even with quartly, or yearly avergaged (or last point) data. The large volatility in market data is probally to blame.\n",
    " \n",
    "It seems that using the ratio of daily avergad returns (or yearly returns = 252 daily returns) might be a much better way to calulate β . If $r_f$ is not zero, then it can be subtracted during this \"manually\" calculations. \n",
    "\n",
    "If people really want to use linregress fitting to calculate β , the the cumulated return seems a much better candidate. However since (1+a)^n is not equivalent to (1 + a n) if a>0.5, it might be even better to create \"cumulated log return\" for this purpose. Make sense ???\n",
    "<br>\n",
    "<br>"
   ]
  },
  {
   "cell_type": "code",
   "execution_count": 11,
   "metadata": {
    "collapsed": true
   },
   "outputs": [],
   "source": [
    "from scipy import stats\n",
    "import pandas as pd\n",
    "import numpy as np\n",
    "import pandas_datareader as web  # also tried pandas_datareader.data"
   ]
  },
  {
   "cell_type": "code",
   "execution_count": 15,
   "metadata": {
    "collapsed": true
   },
   "outputs": [],
   "source": [
    "# before made it work with 'yahoo', also tried using quandle, only worked for AAPL:\n",
    "import quandl"
   ]
  },
  {
   "cell_type": "code",
   "execution_count": 45,
   "metadata": {
    "collapsed": true
   },
   "outputs": [],
   "source": [
    "import matplotlib.pyplot as plt\n",
    "%matplotlib inline"
   ]
  },
  {
   "cell_type": "code",
   "execution_count": 30,
   "metadata": {
    "collapsed": true
   },
   "outputs": [],
   "source": [
    "spy_etf = web.DataReader('SPY', 'yahoo')  # tried google, morningstar, fred, all did not work, but yahoo worked!!!!"
   ]
  },
  {
   "cell_type": "code",
   "execution_count": 20,
   "metadata": {
    "collapsed": true
   },
   "outputs": [],
   "source": [
    "start = pd.to_datetime('2010-01-04')\n",
    "end = pd.to_datetime('2017-07-15')\n",
    "aapl = quandl.get('WIKI/AAPL', startdate=start, enddate=end)\n",
    "#help(quandl.get)"
   ]
  },
  {
   "cell_type": "code",
   "execution_count": null,
   "metadata": {
    "collapsed": true
   },
   "outputs": [],
   "source": [
    "with open('quandlfile.txt', 'r') as qfile:   # saved the key to a file\n",
    "    quandlkey = qfile.read()\n",
    "spy_etf = quandl.get('EOD/SPY', api_key=quandlkey, startdate=start, enddate=end)\n",
    "# but it did not work. It needs register. Giveup"
   ]
  },
  {
   "cell_type": "code",
   "execution_count": 31,
   "metadata": {},
   "outputs": [
    {
     "data": {
      "text/html": [
       "<div>\n",
       "<style scoped>\n",
       "    .dataframe tbody tr th:only-of-type {\n",
       "        vertical-align: middle;\n",
       "    }\n",
       "\n",
       "    .dataframe tbody tr th {\n",
       "        vertical-align: top;\n",
       "    }\n",
       "\n",
       "    .dataframe thead th {\n",
       "        text-align: right;\n",
       "    }\n",
       "</style>\n",
       "<table border=\"1\" class=\"dataframe\">\n",
       "  <thead>\n",
       "    <tr style=\"text-align: right;\">\n",
       "      <th></th>\n",
       "      <th>High</th>\n",
       "      <th>Low</th>\n",
       "      <th>Open</th>\n",
       "      <th>Close</th>\n",
       "      <th>Volume</th>\n",
       "      <th>Adj Close</th>\n",
       "    </tr>\n",
       "    <tr>\n",
       "      <th>Date</th>\n",
       "      <th></th>\n",
       "      <th></th>\n",
       "      <th></th>\n",
       "      <th></th>\n",
       "      <th></th>\n",
       "      <th></th>\n",
       "    </tr>\n",
       "  </thead>\n",
       "  <tbody>\n",
       "    <tr>\n",
       "      <th>2010-01-04</th>\n",
       "      <td>113.389999</td>\n",
       "      <td>111.510002</td>\n",
       "      <td>112.370003</td>\n",
       "      <td>113.330002</td>\n",
       "      <td>118944600.0</td>\n",
       "      <td>95.528107</td>\n",
       "    </tr>\n",
       "    <tr>\n",
       "      <th>2010-01-05</th>\n",
       "      <td>113.680000</td>\n",
       "      <td>112.849998</td>\n",
       "      <td>113.260002</td>\n",
       "      <td>113.629997</td>\n",
       "      <td>111579900.0</td>\n",
       "      <td>95.780975</td>\n",
       "    </tr>\n",
       "    <tr>\n",
       "      <th>2010-01-06</th>\n",
       "      <td>113.989998</td>\n",
       "      <td>113.430000</td>\n",
       "      <td>113.519997</td>\n",
       "      <td>113.709999</td>\n",
       "      <td>116074400.0</td>\n",
       "      <td>95.848396</td>\n",
       "    </tr>\n",
       "  </tbody>\n",
       "</table>\n",
       "</div>"
      ],
      "text/plain": [
       "                  High         Low        Open       Close       Volume  \\\n",
       "Date                                                                      \n",
       "2010-01-04  113.389999  111.510002  112.370003  113.330002  118944600.0   \n",
       "2010-01-05  113.680000  112.849998  113.260002  113.629997  111579900.0   \n",
       "2010-01-06  113.989998  113.430000  113.519997  113.709999  116074400.0   \n",
       "\n",
       "            Adj Close  \n",
       "Date                   \n",
       "2010-01-04  95.528107  \n",
       "2010-01-05  95.780975  \n",
       "2010-01-06  95.848396  "
      ]
     },
     "execution_count": 31,
     "metadata": {},
     "output_type": "execute_result"
    }
   ],
   "source": [
    "spy_etf.head(3)"
   ]
  },
  {
   "cell_type": "code",
   "execution_count": 42,
   "metadata": {},
   "outputs": [
    {
     "data": {
      "text/html": [
       "<div>\n",
       "<style scoped>\n",
       "    .dataframe tbody tr th:only-of-type {\n",
       "        vertical-align: middle;\n",
       "    }\n",
       "\n",
       "    .dataframe tbody tr th {\n",
       "        vertical-align: top;\n",
       "    }\n",
       "\n",
       "    .dataframe thead th {\n",
       "        text-align: right;\n",
       "    }\n",
       "</style>\n",
       "<table border=\"1\" class=\"dataframe\">\n",
       "  <thead>\n",
       "    <tr style=\"text-align: right;\">\n",
       "      <th></th>\n",
       "      <th>High</th>\n",
       "      <th>Low</th>\n",
       "      <th>Open</th>\n",
       "      <th>Close</th>\n",
       "      <th>Volume</th>\n",
       "      <th>Adj Close</th>\n",
       "    </tr>\n",
       "    <tr>\n",
       "      <th>Date</th>\n",
       "      <th></th>\n",
       "      <th></th>\n",
       "      <th></th>\n",
       "      <th></th>\n",
       "      <th></th>\n",
       "      <th></th>\n",
       "    </tr>\n",
       "  </thead>\n",
       "  <tbody>\n",
       "    <tr>\n",
       "      <th>2018-09-11</th>\n",
       "      <td>289.549988</td>\n",
       "      <td>286.980011</td>\n",
       "      <td>287.369995</td>\n",
       "      <td>289.049988</td>\n",
       "      <td>50530500.0</td>\n",
       "      <td>289.049988</td>\n",
       "    </tr>\n",
       "    <tr>\n",
       "      <th>2018-09-12</th>\n",
       "      <td>289.799988</td>\n",
       "      <td>288.230011</td>\n",
       "      <td>289.059998</td>\n",
       "      <td>289.119995</td>\n",
       "      <td>59810800.0</td>\n",
       "      <td>289.119995</td>\n",
       "    </tr>\n",
       "    <tr>\n",
       "      <th>2018-09-13</th>\n",
       "      <td>291.040009</td>\n",
       "      <td>290.000000</td>\n",
       "      <td>290.320007</td>\n",
       "      <td>290.829987</td>\n",
       "      <td>50992300.0</td>\n",
       "      <td>290.829987</td>\n",
       "    </tr>\n",
       "  </tbody>\n",
       "</table>\n",
       "</div>"
      ],
      "text/plain": [
       "                  High         Low        Open       Close      Volume  \\\n",
       "Date                                                                     \n",
       "2018-09-11  289.549988  286.980011  287.369995  289.049988  50530500.0   \n",
       "2018-09-12  289.799988  288.230011  289.059998  289.119995  59810800.0   \n",
       "2018-09-13  291.040009  290.000000  290.320007  290.829987  50992300.0   \n",
       "\n",
       "             Adj Close  \n",
       "Date                    \n",
       "2018-09-11  289.049988  \n",
       "2018-09-12  289.119995  \n",
       "2018-09-13  290.829987  "
      ]
     },
     "execution_count": 42,
     "metadata": {},
     "output_type": "execute_result"
    }
   ],
   "source": [
    "spy_etf.tail(3)"
   ]
  },
  {
   "cell_type": "code",
   "execution_count": 32,
   "metadata": {},
   "outputs": [
    {
     "data": {
      "text/html": [
       "<div>\n",
       "<style scoped>\n",
       "    .dataframe tbody tr th:only-of-type {\n",
       "        vertical-align: middle;\n",
       "    }\n",
       "\n",
       "    .dataframe tbody tr th {\n",
       "        vertical-align: top;\n",
       "    }\n",
       "\n",
       "    .dataframe thead th {\n",
       "        text-align: right;\n",
       "    }\n",
       "</style>\n",
       "<table border=\"1\" class=\"dataframe\">\n",
       "  <thead>\n",
       "    <tr style=\"text-align: right;\">\n",
       "      <th></th>\n",
       "      <th>Open</th>\n",
       "      <th>High</th>\n",
       "      <th>Low</th>\n",
       "      <th>Close</th>\n",
       "      <th>Volume</th>\n",
       "      <th>Ex-Dividend</th>\n",
       "      <th>Split Ratio</th>\n",
       "      <th>Adj. Open</th>\n",
       "      <th>Adj. High</th>\n",
       "      <th>Adj. Low</th>\n",
       "      <th>Adj. Close</th>\n",
       "      <th>Adj. Volume</th>\n",
       "    </tr>\n",
       "    <tr>\n",
       "      <th>Date</th>\n",
       "      <th></th>\n",
       "      <th></th>\n",
       "      <th></th>\n",
       "      <th></th>\n",
       "      <th></th>\n",
       "      <th></th>\n",
       "      <th></th>\n",
       "      <th></th>\n",
       "      <th></th>\n",
       "      <th></th>\n",
       "      <th></th>\n",
       "      <th></th>\n",
       "    </tr>\n",
       "  </thead>\n",
       "  <tbody>\n",
       "    <tr>\n",
       "      <th>1980-12-12</th>\n",
       "      <td>28.75</td>\n",
       "      <td>28.87</td>\n",
       "      <td>28.75</td>\n",
       "      <td>28.75</td>\n",
       "      <td>2093900.0</td>\n",
       "      <td>0.0</td>\n",
       "      <td>1.0</td>\n",
       "      <td>0.422706</td>\n",
       "      <td>0.424470</td>\n",
       "      <td>0.422706</td>\n",
       "      <td>0.422706</td>\n",
       "      <td>117258400.0</td>\n",
       "    </tr>\n",
       "    <tr>\n",
       "      <th>1980-12-15</th>\n",
       "      <td>27.38</td>\n",
       "      <td>27.38</td>\n",
       "      <td>27.25</td>\n",
       "      <td>27.25</td>\n",
       "      <td>785200.0</td>\n",
       "      <td>0.0</td>\n",
       "      <td>1.0</td>\n",
       "      <td>0.402563</td>\n",
       "      <td>0.402563</td>\n",
       "      <td>0.400652</td>\n",
       "      <td>0.400652</td>\n",
       "      <td>43971200.0</td>\n",
       "    </tr>\n",
       "    <tr>\n",
       "      <th>1980-12-16</th>\n",
       "      <td>25.37</td>\n",
       "      <td>25.37</td>\n",
       "      <td>25.25</td>\n",
       "      <td>25.25</td>\n",
       "      <td>472000.0</td>\n",
       "      <td>0.0</td>\n",
       "      <td>1.0</td>\n",
       "      <td>0.373010</td>\n",
       "      <td>0.373010</td>\n",
       "      <td>0.371246</td>\n",
       "      <td>0.371246</td>\n",
       "      <td>26432000.0</td>\n",
       "    </tr>\n",
       "    <tr>\n",
       "      <th>1980-12-17</th>\n",
       "      <td>25.87</td>\n",
       "      <td>26.00</td>\n",
       "      <td>25.87</td>\n",
       "      <td>25.87</td>\n",
       "      <td>385900.0</td>\n",
       "      <td>0.0</td>\n",
       "      <td>1.0</td>\n",
       "      <td>0.380362</td>\n",
       "      <td>0.382273</td>\n",
       "      <td>0.380362</td>\n",
       "      <td>0.380362</td>\n",
       "      <td>21610400.0</td>\n",
       "    </tr>\n",
       "    <tr>\n",
       "      <th>1980-12-18</th>\n",
       "      <td>26.63</td>\n",
       "      <td>26.75</td>\n",
       "      <td>26.63</td>\n",
       "      <td>26.63</td>\n",
       "      <td>327900.0</td>\n",
       "      <td>0.0</td>\n",
       "      <td>1.0</td>\n",
       "      <td>0.391536</td>\n",
       "      <td>0.393300</td>\n",
       "      <td>0.391536</td>\n",
       "      <td>0.391536</td>\n",
       "      <td>18362400.0</td>\n",
       "    </tr>\n",
       "  </tbody>\n",
       "</table>\n",
       "</div>"
      ],
      "text/plain": [
       "             Open   High    Low  Close     Volume  Ex-Dividend  Split Ratio  \\\n",
       "Date                                                                          \n",
       "1980-12-12  28.75  28.87  28.75  28.75  2093900.0          0.0          1.0   \n",
       "1980-12-15  27.38  27.38  27.25  27.25   785200.0          0.0          1.0   \n",
       "1980-12-16  25.37  25.37  25.25  25.25   472000.0          0.0          1.0   \n",
       "1980-12-17  25.87  26.00  25.87  25.87   385900.0          0.0          1.0   \n",
       "1980-12-18  26.63  26.75  26.63  26.63   327900.0          0.0          1.0   \n",
       "\n",
       "            Adj. Open  Adj. High  Adj. Low  Adj. Close  Adj. Volume  \n",
       "Date                                                                 \n",
       "1980-12-12   0.422706   0.424470  0.422706    0.422706  117258400.0  \n",
       "1980-12-15   0.402563   0.402563  0.400652    0.400652   43971200.0  \n",
       "1980-12-16   0.373010   0.373010  0.371246    0.371246   26432000.0  \n",
       "1980-12-17   0.380362   0.382273  0.380362    0.380362   21610400.0  \n",
       "1980-12-18   0.391536   0.393300  0.391536    0.391536   18362400.0  "
      ]
     },
     "execution_count": 32,
     "metadata": {},
     "output_type": "execute_result"
    }
   ],
   "source": [
    "aapl.head()"
   ]
  },
  {
   "cell_type": "code",
   "execution_count": 34,
   "metadata": {},
   "outputs": [
    {
     "data": {
      "text/html": [
       "<div>\n",
       "<style scoped>\n",
       "    .dataframe tbody tr th:only-of-type {\n",
       "        vertical-align: middle;\n",
       "    }\n",
       "\n",
       "    .dataframe tbody tr th {\n",
       "        vertical-align: top;\n",
       "    }\n",
       "\n",
       "    .dataframe thead th {\n",
       "        text-align: right;\n",
       "    }\n",
       "</style>\n",
       "<table border=\"1\" class=\"dataframe\">\n",
       "  <thead>\n",
       "    <tr style=\"text-align: right;\">\n",
       "      <th></th>\n",
       "      <th>Open</th>\n",
       "      <th>High</th>\n",
       "      <th>Low</th>\n",
       "      <th>Close</th>\n",
       "      <th>Volume</th>\n",
       "      <th>Ex-Dividend</th>\n",
       "      <th>Split Ratio</th>\n",
       "      <th>Adj. Open</th>\n",
       "      <th>Adj. High</th>\n",
       "      <th>Adj. Low</th>\n",
       "      <th>Adj. Close</th>\n",
       "      <th>Adj. Volume</th>\n",
       "    </tr>\n",
       "    <tr>\n",
       "      <th>Date</th>\n",
       "      <th></th>\n",
       "      <th></th>\n",
       "      <th></th>\n",
       "      <th></th>\n",
       "      <th></th>\n",
       "      <th></th>\n",
       "      <th></th>\n",
       "      <th></th>\n",
       "      <th></th>\n",
       "      <th></th>\n",
       "      <th></th>\n",
       "      <th></th>\n",
       "    </tr>\n",
       "  </thead>\n",
       "  <tbody>\n",
       "    <tr>\n",
       "      <th>2018-03-23</th>\n",
       "      <td>168.39</td>\n",
       "      <td>169.92</td>\n",
       "      <td>164.94</td>\n",
       "      <td>164.94</td>\n",
       "      <td>40248954.0</td>\n",
       "      <td>0.0</td>\n",
       "      <td>1.0</td>\n",
       "      <td>168.39</td>\n",
       "      <td>169.92</td>\n",
       "      <td>164.94</td>\n",
       "      <td>164.94</td>\n",
       "      <td>40248954.0</td>\n",
       "    </tr>\n",
       "    <tr>\n",
       "      <th>2018-03-26</th>\n",
       "      <td>168.07</td>\n",
       "      <td>173.10</td>\n",
       "      <td>166.44</td>\n",
       "      <td>172.77</td>\n",
       "      <td>36272617.0</td>\n",
       "      <td>0.0</td>\n",
       "      <td>1.0</td>\n",
       "      <td>168.07</td>\n",
       "      <td>173.10</td>\n",
       "      <td>166.44</td>\n",
       "      <td>172.77</td>\n",
       "      <td>36272617.0</td>\n",
       "    </tr>\n",
       "    <tr>\n",
       "      <th>2018-03-27</th>\n",
       "      <td>173.68</td>\n",
       "      <td>175.15</td>\n",
       "      <td>166.92</td>\n",
       "      <td>168.34</td>\n",
       "      <td>38962839.0</td>\n",
       "      <td>0.0</td>\n",
       "      <td>1.0</td>\n",
       "      <td>173.68</td>\n",
       "      <td>175.15</td>\n",
       "      <td>166.92</td>\n",
       "      <td>168.34</td>\n",
       "      <td>38962839.0</td>\n",
       "    </tr>\n",
       "  </tbody>\n",
       "</table>\n",
       "</div>"
      ],
      "text/plain": [
       "              Open    High     Low   Close      Volume  Ex-Dividend  \\\n",
       "Date                                                                  \n",
       "2018-03-23  168.39  169.92  164.94  164.94  40248954.0          0.0   \n",
       "2018-03-26  168.07  173.10  166.44  172.77  36272617.0          0.0   \n",
       "2018-03-27  173.68  175.15  166.92  168.34  38962839.0          0.0   \n",
       "\n",
       "            Split Ratio  Adj. Open  Adj. High  Adj. Low  Adj. Close  \\\n",
       "Date                                                                  \n",
       "2018-03-23          1.0     168.39     169.92    164.94      164.94   \n",
       "2018-03-26          1.0     168.07     173.10    166.44      172.77   \n",
       "2018-03-27          1.0     173.68     175.15    166.92      168.34   \n",
       "\n",
       "            Adj. Volume  \n",
       "Date                     \n",
       "2018-03-23   40248954.0  \n",
       "2018-03-26   36272617.0  \n",
       "2018-03-27   38962839.0  "
      ]
     },
     "execution_count": 34,
     "metadata": {},
     "output_type": "execute_result"
    }
   ],
   "source": [
    "aapl.tail(3)"
   ]
  },
  {
   "cell_type": "code",
   "execution_count": 35,
   "metadata": {
    "collapsed": true
   },
   "outputs": [],
   "source": [
    "# Somehow the data is \n",
    "\n",
    "spy_etf.to_csv('spy_etf.csv')"
   ]
  },
  {
   "cell_type": "code",
   "execution_count": 36,
   "metadata": {
    "collapsed": true
   },
   "outputs": [],
   "source": [
    "aapl.to_csv('aapl_save.csv')"
   ]
  },
  {
   "cell_type": "code",
   "execution_count": 37,
   "metadata": {},
   "outputs": [
    {
     "name": "stdout",
     "output_type": "stream",
     "text": [
      "<class 'pandas._libs.tslibs.timestamps.Timestamp'>\n"
     ]
    }
   ],
   "source": [
    "print(type(aapl.index[0]))"
   ]
  },
  {
   "cell_type": "code",
   "execution_count": 143,
   "metadata": {
    "collapsed": true
   },
   "outputs": [],
   "source": [
    "columns = ['High', 'Low', 'Open', 'Close', 'Volume', 'Adj. Close']\n",
    "aapl2 = aapl.loc[start:end, columns]\n",
    "aapl2.columns = ['High', 'Low', 'Open', 'Close', 'Volume', 'Adj Close']"
   ]
  },
  {
   "cell_type": "code",
   "execution_count": 144,
   "metadata": {
    "collapsed": true
   },
   "outputs": [],
   "source": [
    "spy_etf2 = spy_etf.loc[start:end]"
   ]
  },
  {
   "cell_type": "code",
   "execution_count": 145,
   "metadata": {},
   "outputs": [
    {
     "data": {
      "text/html": [
       "<div>\n",
       "<style scoped>\n",
       "    .dataframe tbody tr th:only-of-type {\n",
       "        vertical-align: middle;\n",
       "    }\n",
       "\n",
       "    .dataframe tbody tr th {\n",
       "        vertical-align: top;\n",
       "    }\n",
       "\n",
       "    .dataframe thead th {\n",
       "        text-align: right;\n",
       "    }\n",
       "</style>\n",
       "<table border=\"1\" class=\"dataframe\">\n",
       "  <thead>\n",
       "    <tr style=\"text-align: right;\">\n",
       "      <th></th>\n",
       "      <th>High</th>\n",
       "      <th>Low</th>\n",
       "      <th>Open</th>\n",
       "      <th>Close</th>\n",
       "      <th>Volume</th>\n",
       "      <th>Adj Close</th>\n",
       "    </tr>\n",
       "    <tr>\n",
       "      <th>Date</th>\n",
       "      <th></th>\n",
       "      <th></th>\n",
       "      <th></th>\n",
       "      <th></th>\n",
       "      <th></th>\n",
       "      <th></th>\n",
       "    </tr>\n",
       "  </thead>\n",
       "  <tbody>\n",
       "    <tr>\n",
       "      <th>2010-01-04</th>\n",
       "      <td>214.50</td>\n",
       "      <td>212.38</td>\n",
       "      <td>213.43</td>\n",
       "      <td>214.01</td>\n",
       "      <td>17633200.0</td>\n",
       "      <td>27.503268</td>\n",
       "    </tr>\n",
       "    <tr>\n",
       "      <th>2010-01-05</th>\n",
       "      <td>215.59</td>\n",
       "      <td>213.25</td>\n",
       "      <td>214.60</td>\n",
       "      <td>214.38</td>\n",
       "      <td>21496600.0</td>\n",
       "      <td>27.550818</td>\n",
       "    </tr>\n",
       "    <tr>\n",
       "      <th>2010-01-06</th>\n",
       "      <td>215.23</td>\n",
       "      <td>210.75</td>\n",
       "      <td>214.38</td>\n",
       "      <td>210.97</td>\n",
       "      <td>19720000.0</td>\n",
       "      <td>27.112585</td>\n",
       "    </tr>\n",
       "    <tr>\n",
       "      <th>2010-01-07</th>\n",
       "      <td>212.00</td>\n",
       "      <td>209.05</td>\n",
       "      <td>211.75</td>\n",
       "      <td>210.58</td>\n",
       "      <td>17040400.0</td>\n",
       "      <td>27.062465</td>\n",
       "    </tr>\n",
       "    <tr>\n",
       "      <th>2010-01-08</th>\n",
       "      <td>212.00</td>\n",
       "      <td>209.06</td>\n",
       "      <td>210.30</td>\n",
       "      <td>211.98</td>\n",
       "      <td>15986100.0</td>\n",
       "      <td>27.242385</td>\n",
       "    </tr>\n",
       "  </tbody>\n",
       "</table>\n",
       "</div>"
      ],
      "text/plain": [
       "              High     Low    Open   Close      Volume  Adj Close\n",
       "Date                                                             \n",
       "2010-01-04  214.50  212.38  213.43  214.01  17633200.0  27.503268\n",
       "2010-01-05  215.59  213.25  214.60  214.38  21496600.0  27.550818\n",
       "2010-01-06  215.23  210.75  214.38  210.97  19720000.0  27.112585\n",
       "2010-01-07  212.00  209.05  211.75  210.58  17040400.0  27.062465\n",
       "2010-01-08  212.00  209.06  210.30  211.98  15986100.0  27.242385"
      ]
     },
     "execution_count": 145,
     "metadata": {},
     "output_type": "execute_result"
    }
   ],
   "source": [
    "aapl2.head()"
   ]
  },
  {
   "cell_type": "code",
   "execution_count": 146,
   "metadata": {},
   "outputs": [
    {
     "name": "stdout",
     "output_type": "stream",
     "text": [
      "(1896, 6) (1896, 6)\n"
     ]
    }
   ],
   "source": [
    "print(spy_etf2.shape, aapl2.shape)"
   ]
  },
  {
   "cell_type": "code",
   "execution_count": 147,
   "metadata": {},
   "outputs": [
    {
     "data": {
      "image/png": "[encoded data removed]",
      "text/plain": [
       "<matplotlib.figure.Figure at 0x229e7ecf9b0>"
      ]
     },
     "metadata": {},
     "output_type": "display_data"
    }
   ],
   "source": [
    "aapl2['Adj Close'].plot(figsize=(7,4), label='AAPL Adj Close')\n",
    "spy_etf2['Adj Close'].plot(label='SPY Adj Close')\n",
    "plt.legend();"
   ]
  },
  {
   "cell_type": "markdown",
   "metadata": {},
   "source": [
    "# Cumulative return #"
   ]
  },
  {
   "cell_type": "code",
   "execution_count": 148,
   "metadata": {},
   "outputs": [
    {
     "name": "stderr",
     "output_type": "stream",
     "text": [
      "C:\\Users\\huang\\Anaconda3\\envs\\tfdeeplearning\\lib\\site-packages\\ipykernel_launcher.py:2: SettingWithCopyWarning: \n",
      "A value is trying to be set on a copy of a slice from a DataFrame.\n",
      "Try using .loc[row_indexer,col_indexer] = value instead\n",
      "\n",
      "See the caveats in the documentation: http://pandas.pydata.org/pandas-docs/stable/indexing.html#indexing-view-versus-copy\n",
      "  \n"
     ]
    },
    {
     "data": {
      "image/png": "[encoded data removed]",
      "text/plain": [
       "<matplotlib.figure.Figure at 0x229e53552b0>"
      ]
     },
     "metadata": {},
     "output_type": "display_data"
    }
   ],
   "source": [
    "aapl2['Cumulative'] = aapl2['Adj Close']/aapl2['Adj Close'].iloc[0]\n",
    "spy_etf2['Cumulative'] = spy_etf2['Adj Close']/spy_etf2['Adj Close'].iloc[0]\n",
    "aapl2['Cumulative'].plot(figsize=(7,4), label='AAPL Cumulative')\n",
    "spy_etf2['Cumulative'].plot(label='SPY Cumulative')\n",
    "plt.legend();"
   ]
  },
  {
   "cell_type": "markdown",
   "metadata": {},
   "source": [
    "# Daily Return #"
   ]
  },
  {
   "cell_type": "code",
   "execution_count": 149,
   "metadata": {},
   "outputs": [
    {
     "name": "stderr",
     "output_type": "stream",
     "text": [
      "C:\\Users\\huang\\Anaconda3\\envs\\tfdeeplearning\\lib\\site-packages\\ipykernel_launcher.py:2: SettingWithCopyWarning: \n",
      "A value is trying to be set on a copy of a slice from a DataFrame.\n",
      "Try using .loc[row_indexer,col_indexer] = value instead\n",
      "\n",
      "See the caveats in the documentation: http://pandas.pydata.org/pandas-docs/stable/indexing.html#indexing-view-versus-copy\n",
      "  \n"
     ]
    },
    {
     "data": {
      "text/plain": [
       "<matplotlib.legend.Legend at 0x229e7ca2160>"
      ]
     },
     "execution_count": 149,
     "metadata": {},
     "output_type": "execute_result"
    },
    {
     "data": {
      "image/png": "[encoded data removed]",
      "text/plain": [
       "<matplotlib.figure.Figure at 0x229e2d49da0>"
      ]
     },
     "metadata": {},
     "output_type": "display_data"
    }
   ],
   "source": [
    "aapl2['Daily Return'] = aapl2['Adj Close'].pct_change()\n",
    "spy_etf2['Daily Return'] = spy_etf2['Adj Close'].pct_change()\n",
    "aapl2['Daily Return'].hist(bins=100, label='AAPL Daily', alpha=0.5)\n",
    "spy_etf2['Daily Return'].hist(bins=100, label='spy_etf2 Daily', alpha=0.5)\n",
    "plt.legend()"
   ]
  },
  {
   "cell_type": "code",
   "execution_count": 150,
   "metadata": {},
   "outputs": [
    {
     "data": {
      "image/png": "[encoded data removed]",
      "text/plain": [
       "<matplotlib.figure.Figure at 0x229e6c75c50>"
      ]
     },
     "metadata": {},
     "output_type": "display_data"
    }
   ],
   "source": [
    "plt.scatter(spy_etf2['Daily Return'], aapl2['Daily Return'], alpha=0.2);"
   ]
  },
  {
   "cell_type": "markdown",
   "metadata": {},
   "source": [
    "# Does AAPL fit CAPM ? not sure #"
   ]
  },
  {
   "cell_type": "code",
   "execution_count": 151,
   "metadata": {
    "collapsed": true
   },
   "outputs": [],
   "source": [
    "beta,alpha,r_value,p_value,std_err = stats.linregress(spy_etf2['Daily Return'].iloc[1:], aapl2['Daily Return'].iloc[1:])"
   ]
  },
  {
   "cell_type": "code",
   "execution_count": 152,
   "metadata": {},
   "outputs": [
    {
     "name": "stdout",
     "output_type": "stream",
     "text": [
      "0.950211694398229 0.0005139435961842749 0.5555683327689955 6.144889418033772e-154 0.03268546183892011\n"
     ]
    }
   ],
   "source": [
    "print(beta,alpha,r_value,p_value,std_err)"
   ]
  },
  {
   "cell_type": "code",
   "execution_count": 153,
   "metadata": {},
   "outputs": [
    {
     "data": {
      "text/plain": [
       "[<matplotlib.lines.Line2D at 0x229e6b1f9b0>]"
      ]
     },
     "execution_count": 153,
     "metadata": {},
     "output_type": "execute_result"
    },
    {
     "data": {
      "image/png": "[encoded data removed]",
      "text/plain": [
       "<matplotlib.figure.Figure at 0x229e6b1f7b8>"
      ]
     },
     "metadata": {},
     "output_type": "display_data"
    }
   ],
   "source": [
    "x=np.linspace(-0.07, 0.05, 100)\n",
    "y = alpha + beta*x\n",
    "plt.scatter(spy_etf2['Daily Return'], aapl2['Daily Return'], alpha=0.2)\n",
    "plt.plot(x, y)"
   ]
  },
  {
   "cell_type": "code",
   "execution_count": 163,
   "metadata": {},
   "outputs": [
    {
     "name": "stdout",
     "output_type": "stream",
     "text": [
      "0.0005332598039640233 0.001020653298063397 1.9139888108503598\n"
     ]
    }
   ],
   "source": [
    "print(spy_etf2['Daily Return'].mean(), aapl2['Daily Return'].mean(), aapl2['Daily Return'].mean()/spy_etf2['Daily Return'].mean())"
   ]
  },
  {
   "cell_type": "code",
   "execution_count": 164,
   "metadata": {},
   "outputs": [
    {
     "name": "stdout",
     "output_type": "stream",
     "text": [
      "0.32482885045020826 0.00020172216644587628 0.5555683327689955 6.144889418033772e-154 0.011173490137157753\n"
     ]
    }
   ],
   "source": [
    "beta,alpha,r_value,p_value,std_err = stats.linregress(aapl2['Daily Return'].iloc[1:], spy_etf2['Daily Return'].iloc[1:])\n",
    "print(beta,alpha,r_value,p_value,std_err)"
   ]
  },
  {
   "cell_type": "markdown",
   "metadata": {},
   "source": [
    "### Lecturer conducted the message that this is the way of calculate $\\beta$ and $r_f$, but it obviously does not work !! ### <br>\n",
    "I suspect that given the large noise on daily returns (or even quarterly returns), the linregress fit will not meanful. For example, with (AAPL, SPY) as independent and dependent variables, linregress gives $\\beta$ = 0.325, which seems hint that with (SPY, AAPL) as independent and dependent variables, the $\\beta$ would be about 1/0.325=3.08, but the linregress gives $\\beta$ of 0.95. That seems telling me that such linregress is not the right way to calculate $\\beta$\n",
    "In the following, I will show that even I am using quartly, or yearly avergaged or last data for the linregress fitting, the result is bad.\n",
    "It seems that the ratio of daily avergad returns, (or yearly returns = 252 * daily returns) might be a much better apporoximation of $\\beta$. If $r_f$ is not zero, then if can be subtracted from the averaged daily (or yearly) returns during this \"manually\" calculations.\n",
    "If really want to use linregress fit to calculate $\\beta$, the the cumulated return seems a much better candidate. However since (1+a)^n is not equivalent to (1 + a * n) if a>0.5, it might be even better to create \"cumulated log return\" for this purpose."
   ]
  },
  {
   "cell_type": "markdown",
   "metadata": {},
   "source": [
    "## Test resample the data quarterly "
   ]
  },
  {
   "cell_type": "code",
   "execution_count": 81,
   "metadata": {},
   "outputs": [
    {
     "name": "stdout",
     "output_type": "stream",
     "text": [
      "<class 'pandas._libs.tslibs.timestamps.Timestamp'> <class 'pandas._libs.tslibs.timestamps.Timestamp'>\n"
     ]
    }
   ],
   "source": [
    "print(type(spy3.index[0]), type(aapl3.index[0]))"
   ]
  },
  {
   "cell_type": "code",
   "execution_count": 155,
   "metadata": {},
   "outputs": [
    {
     "data": {
      "text/plain": [
       "<matplotlib.collections.PathCollection at 0x229e80778d0>"
      ]
     },
     "execution_count": 155,
     "metadata": {},
     "output_type": "execute_result"
    },
    {
     "data": {
      "image/png": "[encoded data removed]",
      "text/plain": [
       "<matplotlib.figure.Figure at 0x229e7f8cbe0>"
      ]
     },
     "metadata": {},
     "output_type": "display_data"
    }
   ],
   "source": [
    "spy3 = spy_etf2[['Close', 'Adj Close']]\n",
    "aapl3 = aapl2[['Close','Adj Close']]\n",
    "spy3 = spy3.resample(rule='Q').mean()  #last()\n",
    "aapl3 = aapl3.resample(rule='Q').mean() #last()   #, closed='left', label='left', how='last')\n",
    "spy3['Q Return'] = spy3['Adj Close'].pct_change()\n",
    "aapl3['Q Return'] = aapl3['Adj Close'].pct_change()\n",
    "plt.scatter(spy3['Q Return'], aapl3['Q Return'], alpha=0.3)"
   ]
  },
  {
   "cell_type": "code",
   "execution_count": 156,
   "metadata": {},
   "outputs": [
    {
     "data": {
      "image/png": "[encoded data removed]",
      "text/plain": [
       "<matplotlib.figure.Figure at 0x229e68f09b0>"
      ]
     },
     "metadata": {},
     "output_type": "display_data"
    }
   ],
   "source": [
    "spy3['Cumulative'] = spy3['Adj Close']/spy3['Adj Close'].iloc[0]\n",
    "aapl3['Cumulative'] = aapl3['Adj Close']/aapl3['Adj Close'].iloc[0]\n",
    "#plt.scatter(spy3['Cumulative'], aapl3['Cumulative'])\n",
    "aapl3['Cumulative'].plot(label = 'AAPL')\n",
    "spy3['Cumulative'].plot(figsize=(7,5), label = 'SPY')\n",
    "plt.legend();"
   ]
  },
  {
   "cell_type": "code",
   "execution_count": 157,
   "metadata": {},
   "outputs": [
    {
     "name": "stdout",
     "output_type": "stream",
     "text": [
      "(30,) (30,)\n"
     ]
    }
   ],
   "source": [
    "print(spy3['Q Return'].iloc[1:].shape, aapl3['Q Return'].iloc[1:].shape)\n",
    "beta,alpha,r_value,p_value,std_err = stats.linregress(spy3['Q Return'].iloc[1:], np.squeeze(aapl3['Q Return'].iloc[1:]))\n",
    "# there was once that squeeze has to be used becausee the series dimension becomes (30,1) instead of (30,)"
   ]
  },
  {
   "cell_type": "code",
   "execution_count": 158,
   "metadata": {},
   "outputs": [
    {
     "name": "stdout",
     "output_type": "stream",
     "text": [
      "0.8615970311722742 0.035376419221888035 0.32246109894644637 0.08222667632183653 0.4779763616101809\n"
     ]
    }
   ],
   "source": [
    "print(beta,alpha,r_value,p_value,std_err)"
   ]
  },
  {
   "cell_type": "code",
   "execution_count": 159,
   "metadata": {},
   "outputs": [
    {
     "name": "stdout",
     "output_type": "stream",
     "text": [
      "2.412978094763162 -1.0261845525567304 0.9385126226952862 1.8521219918549873e-14 0.16774962063474255\n"
     ]
    }
   ],
   "source": [
    "beta,alpha,r_value,p_value,std_err = stats.linregress(spy3['Cumulative'].iloc[1:], np.squeeze(aapl3['Cumulative'].iloc[1:]))\n",
    "print(beta,alpha,r_value,p_value,std_err)"
   ]
  },
  {
   "cell_type": "code",
   "execution_count": 165,
   "metadata": {},
   "outputs": [
    {
     "name": "stdout",
     "output_type": "stream",
     "text": [
      "0.3650285698282882 0.575771321381032 0.9385126226952862 1.8521219918549873e-14 0.025376692910073075\n"
     ]
    }
   ],
   "source": [
    "beta,alpha,r_value,p_value,std_err = stats.linregress(np.squeeze(aapl3['Cumulative'].iloc[1:]), spy3['Cumulative'].iloc[1:])\n",
    "print(beta,alpha,r_value,p_value,std_err)"
   ]
  },
  {
   "cell_type": "markdown",
   "metadata": {},
   "source": [
    "** Use cumulative return, the $\\beta$ of linregress(SPY, AAPL) is close to the reciprocal of the $\\beta$ of linregress(AAPL, SPY): the multiplication of the two $\\beta$s are about 0.88.**"
   ]
  },
  {
   "cell_type": "code",
   "execution_count": 162,
   "metadata": {},
   "outputs": [
    {
     "data": {
      "text/plain": [
       "<matplotlib.collections.PathCollection at 0x229e81d0a20>"
      ]
     },
     "execution_count": 162,
     "metadata": {},
     "output_type": "execute_result"
    },
    {
     "data": {
      "image/png": "[encoded data removed]",
      "text/plain": [
       "<matplotlib.figure.Figure at 0x229e8157a90>"
      ]
     },
     "metadata": {},
     "output_type": "display_data"
    }
   ],
   "source": [
    "spy4 = spy_etf2[['Close', 'Adj Close']]\n",
    "spy4 = spy4.resample(rule='A').mean()\n",
    "aapl4 = aapl2[['Close','Adj Close']]\n",
    "aapl4 = aapl4.resample('A').mean()\n",
    "spy4['Cumulative'] = spy4['Adj Close']/spy4['Adj Close'].iloc[0]\n",
    "aapl4['Cumulative'] = aapl4['Adj Close']/aapl4['Adj Close'].iloc[0]\n",
    "spy4['Y Return'] = spy4['Cumulative'].pct_change()\n",
    "aapl4['Y Return'] = aapl4['Cumulative'].pct_change()\n",
    "plt.scatter(aapl4['Y Return'],spy4['Y Return'])"
   ]
  },
  {
   "cell_type": "code",
   "execution_count": 161,
   "metadata": {},
   "outputs": [
    {
     "name": "stdout",
     "output_type": "stream",
     "text": [
      "0.012526838537815898 0.2550269877063083 0.0027557391118336245 0.9953217297474555 2.032903335052087\n"
     ]
    }
   ],
   "source": [
    "beta,alpha,r_value,p_value,std_err = stats.linregress(spy4['Y Return'].iloc[1:], np.squeeze(aapl4['Y Return'].iloc[1:]))\n",
    "print(beta,alpha,r_value,p_value,std_err)"
   ]
  }
 ],
 "metadata": {
  "kernelspec": {
   "display_name": "Python 3",
   "language": "python",
   "name": "python3"
  },
  "language_info": {
   "codemirror_mode": {
    "name": "ipython",
    "version": 3
   },
   "file_extension": ".py",
   "mimetype": "text/x-python",
   "name": "python",
   "nbconvert_exporter": "python",
   "pygments_lexer": "ipython3",
   "version": "3.5.4"
  }
 },
 "nbformat": 4,
 "nbformat_minor": 2
}
