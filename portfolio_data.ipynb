{
 "cells": [
  {
   "cell_type": "markdown",
   "metadata": {},
   "source": [
    "_____________\n",
    "Practice and notes from online course: \n",
    "[Python for Financial Analysis and Algorithmic Trading](https://www.udemy.com/python-for-finance-and-trading-algorithms/learn/v4/content) <br>\n",
    "Comments are just my understanding, mostly"
   ]
  },
  {
   "cell_type": "markdown",
   "metadata": {},
   "source": [
    "It is said that an ASR > 1 is good; ASR > 2 is very good"
   ]
  },
  {
   "cell_type": "markdown",
   "metadata": {},
   "source": [
    "# Portfolio: #\n",
    "#### Allocations; Inverstment / Postion values; Returns and Volatility; ####\n",
    "#### Sharpe Ratio (with daily, weekly, monthly data);\n",
    "#### Log return ###\n",
    "#### Portfolio optimization (and Efficient Frontier Line), (using Monte Carlo method, or scipy.optimize)\n",
    "__________________________\n",
    "** 3 major trading funds: ETF (Exchange Traded Funds), Mutual Funds, Hedge Funds. (Expense ratios: low to high) ** <br>\n",
    "** High Frequency Trading (HTF) firm: latency arbitrage ** <br>\n",
    "** Short selling **"
   ]
  },
  {
   "cell_type": "code",
   "execution_count": 1,
   "metadata": {
    "collapsed": true
   },
   "outputs": [],
   "source": [
    "import numpy as np\n",
    "import matplotlib.pyplot as plt\n",
    "import quandl\n",
    "import pandas as pd\n",
    "import pandas_datareader.data as web\n",
    "#import pandas_datareader.data as web\n",
    "%matplotlib inline"
   ]
  },
  {
   "cell_type": "code",
   "execution_count": 2,
   "metadata": {
    "collapsed": true
   },
   "outputs": [],
   "source": [
    "start = pd.to_datetime('2012-01-01')\n",
    "end = pd.to_datetime('2017-01-01')"
   ]
  },
  {
   "cell_type": "code",
   "execution_count": 6,
   "metadata": {
    "collapsed": true
   },
   "outputs": [],
   "source": [
    "aapl = quandl.get('WIKI/AAPL.11', start_date=start, end_date=end) # APPL.11 for 11th column: 'Adj.Close'\n",
    "cisco = quandl.get('WIKI/CSCO.11', start_date=start, end_date=end)\n",
    "ibm = quandl.get('WIKI/IBM.11', start_date=start, end_date=end)\n",
    "amzn = quandl.get('WIKI/AMZN.11', start_date=start, end_date=end)\n",
    "# amzn = pd.read_csv('../../ML_finance_Udemy/Python-for-Finance-Repo-master/09-Python-Finance-Fundamentals/AMZN_CLOSE', \n",
    "#                   index_col='Date', parse_dates=True)\n",
    "# loaded from file once when I re-import the data and exceeds the free access limit    "
   ]
  },
  {
   "cell_type": "code",
   "execution_count": 7,
   "metadata": {},
   "outputs": [
    {
     "data": {
      "text/plain": [
       "(1258, 1)"
      ]
     },
     "execution_count": 7,
     "metadata": {},
     "output_type": "execute_result"
    }
   ],
   "source": [
    "aapl.shape"
   ]
  },
  {
   "cell_type": "code",
   "execution_count": 8,
   "metadata": {},
   "outputs": [
    {
     "data": {
      "text/html": [
       "<div>\n",
       "<style scoped>\n",
       "    .dataframe tbody tr th:only-of-type {\n",
       "        vertical-align: middle;\n",
       "    }\n",
       "\n",
       "    .dataframe tbody tr th {\n",
       "        vertical-align: top;\n",
       "    }\n",
       "\n",
       "    .dataframe thead th {\n",
       "        text-align: right;\n",
       "    }\n",
       "</style>\n",
       "<table border=\"1\" class=\"dataframe\">\n",
       "  <thead>\n",
       "    <tr style=\"text-align: right;\">\n",
       "      <th></th>\n",
       "      <th>Adj. Close</th>\n",
       "    </tr>\n",
       "    <tr>\n",
       "      <th>Date</th>\n",
       "      <th></th>\n",
       "    </tr>\n",
       "  </thead>\n",
       "  <tbody>\n",
       "    <tr>\n",
       "      <th>2012-01-03</th>\n",
       "      <td>15.617341</td>\n",
       "    </tr>\n",
       "    <tr>\n",
       "      <th>2012-01-04</th>\n",
       "      <td>15.919125</td>\n",
       "    </tr>\n",
       "    <tr>\n",
       "      <th>2012-01-05</th>\n",
       "      <td>15.860445</td>\n",
       "    </tr>\n",
       "  </tbody>\n",
       "</table>\n",
       "</div>"
      ],
      "text/plain": [
       "            Adj. Close\n",
       "Date                  \n",
       "2012-01-03   15.617341\n",
       "2012-01-04   15.919125\n",
       "2012-01-05   15.860445"
      ]
     },
     "execution_count": 8,
     "metadata": {},
     "output_type": "execute_result"
    }
   ],
   "source": [
    "cisco.head(3)"
   ]
  },
  {
   "cell_type": "code",
   "execution_count": 9,
   "metadata": {
    "collapsed": true
   },
   "outputs": [],
   "source": [
    "for df in (aapl, cisco, ibm, amzn):\n",
    "    df['Norm Return'] = df['Adj. Close']/df.iloc[0]['Adj. Close']"
   ]
  },
  {
   "cell_type": "code",
   "execution_count": 10,
   "metadata": {},
   "outputs": [
    {
     "data": {
      "text/html": [
       "<div>\n",
       "<style scoped>\n",
       "    .dataframe tbody tr th:only-of-type {\n",
       "        vertical-align: middle;\n",
       "    }\n",
       "\n",
       "    .dataframe tbody tr th {\n",
       "        vertical-align: top;\n",
       "    }\n",
       "\n",
       "    .dataframe thead th {\n",
       "        text-align: right;\n",
       "    }\n",
       "</style>\n",
       "<table border=\"1\" class=\"dataframe\">\n",
       "  <thead>\n",
       "    <tr style=\"text-align: right;\">\n",
       "      <th></th>\n",
       "      <th>Adj. Close</th>\n",
       "      <th>Norm Return</th>\n",
       "    </tr>\n",
       "    <tr>\n",
       "      <th>Date</th>\n",
       "      <th></th>\n",
       "      <th></th>\n",
       "    </tr>\n",
       "  </thead>\n",
       "  <tbody>\n",
       "    <tr>\n",
       "      <th>2012-01-03</th>\n",
       "      <td>52.848787</td>\n",
       "      <td>1.000000</td>\n",
       "    </tr>\n",
       "    <tr>\n",
       "      <th>2012-01-04</th>\n",
       "      <td>53.132802</td>\n",
       "      <td>1.005374</td>\n",
       "    </tr>\n",
       "    <tr>\n",
       "      <th>2012-01-05</th>\n",
       "      <td>53.722681</td>\n",
       "      <td>1.016536</td>\n",
       "    </tr>\n",
       "  </tbody>\n",
       "</table>\n",
       "</div>"
      ],
      "text/plain": [
       "            Adj. Close  Norm Return\n",
       "Date                               \n",
       "2012-01-03   52.848787     1.000000\n",
       "2012-01-04   53.132802     1.005374\n",
       "2012-01-05   53.722681     1.016536"
      ]
     },
     "execution_count": 10,
     "metadata": {},
     "output_type": "execute_result"
    }
   ],
   "source": [
    "aapl.head(3)"
   ]
  },
  {
   "cell_type": "markdown",
   "metadata": {},
   "source": [
    "# Allocations #\n",
    "#### Assuming initial stock allocation: 0.3, 0.2, 0.4, 0.1 ####"
   ]
  },
  {
   "cell_type": "code",
   "execution_count": 11,
   "metadata": {
    "collapsed": true
   },
   "outputs": [],
   "source": [
    "for df, allo in zip((aapl, cisco, ibm, amzn), [0.3, 0.2, 0.4, 0.1]):\n",
    "    df['Allocation'] = df['Norm Return']*allo"
   ]
  },
  {
   "cell_type": "code",
   "execution_count": 12,
   "metadata": {},
   "outputs": [
    {
     "name": "stdout",
     "output_type": "stream",
     "text": [
      "1257\n",
      "0.6493400956921899 0.37363621532336966 0.40560061803185277 0.4188515891191421\n"
     ]
    }
   ],
   "source": [
    "last = aapl.shape[0] -1\n",
    "print(last)\n",
    "print(aapl.iloc[last]['Allocation'], cisco.iloc[last]['Allocation'], ibm.iloc[last]['Allocation'], amzn.iloc[last]['Allocation'])"
   ]
  },
  {
   "cell_type": "markdown",
   "metadata": {},
   "source": [
    "** Just to find out the portfolio ratio will be quite different by the end of the data **"
   ]
  },
  {
   "cell_type": "markdown",
   "metadata": {},
   "source": [
    "# Investment / Position values #\n",
    "### assume the portfolio started with 1000000 ###"
   ]
  },
  {
   "cell_type": "code",
   "execution_count": 13,
   "metadata": {
    "collapsed": true
   },
   "outputs": [],
   "source": [
    "for df in (aapl, cisco, ibm, amzn):\n",
    "    df['Position value'] = df['Allocation']*1000000"
   ]
  },
  {
   "cell_type": "code",
   "execution_count": 14,
   "metadata": {},
   "outputs": [
    {
     "data": {
      "text/html": [
       "<div>\n",
       "<style scoped>\n",
       "    .dataframe tbody tr th:only-of-type {\n",
       "        vertical-align: middle;\n",
       "    }\n",
       "\n",
       "    .dataframe tbody tr th {\n",
       "        vertical-align: top;\n",
       "    }\n",
       "\n",
       "    .dataframe thead th {\n",
       "        text-align: right;\n",
       "    }\n",
       "</style>\n",
       "<table border=\"1\" class=\"dataframe\">\n",
       "  <thead>\n",
       "    <tr style=\"text-align: right;\">\n",
       "      <th></th>\n",
       "      <th>Aapl Pos</th>\n",
       "      <th>Cisco Pos</th>\n",
       "      <th>Ibm Pos</th>\n",
       "      <th>Amzn Pos</th>\n",
       "      <th>Total</th>\n",
       "    </tr>\n",
       "    <tr>\n",
       "      <th>Date</th>\n",
       "      <th></th>\n",
       "      <th></th>\n",
       "      <th></th>\n",
       "      <th></th>\n",
       "      <th></th>\n",
       "    </tr>\n",
       "  </thead>\n",
       "  <tbody>\n",
       "    <tr>\n",
       "      <th>2012-01-03</th>\n",
       "      <td>300000.000000</td>\n",
       "      <td>200000.000000</td>\n",
       "      <td>400000.000000</td>\n",
       "      <td>100000.000000</td>\n",
       "      <td>1.000000e+06</td>\n",
       "    </tr>\n",
       "    <tr>\n",
       "      <th>2012-01-04</th>\n",
       "      <td>301612.236461</td>\n",
       "      <td>203864.734300</td>\n",
       "      <td>398368.223296</td>\n",
       "      <td>99150.980283</td>\n",
       "      <td>1.002996e+06</td>\n",
       "    </tr>\n",
       "    <tr>\n",
       "      <th>2012-01-05</th>\n",
       "      <td>304960.727573</td>\n",
       "      <td>203113.258186</td>\n",
       "      <td>396478.797638</td>\n",
       "      <td>99206.836843</td>\n",
       "      <td>1.003760e+06</td>\n",
       "    </tr>\n",
       "  </tbody>\n",
       "</table>\n",
       "</div>"
      ],
      "text/plain": [
       "                 Aapl Pos      Cisco Pos        Ibm Pos       Amzn Pos  \\\n",
       "Date                                                                     \n",
       "2012-01-03  300000.000000  200000.000000  400000.000000  100000.000000   \n",
       "2012-01-04  301612.236461  203864.734300  398368.223296   99150.980283   \n",
       "2012-01-05  304960.727573  203113.258186  396478.797638   99206.836843   \n",
       "\n",
       "                   Total  \n",
       "Date                      \n",
       "2012-01-03  1.000000e+06  \n",
       "2012-01-04  1.002996e+06  \n",
       "2012-01-05  1.003760e+06  "
      ]
     },
     "execution_count": 14,
     "metadata": {},
     "output_type": "execute_result"
    }
   ],
   "source": [
    "portfolio_val = pd.concat([aapl['Position value'], cisco['Position value'], ibm['Position value'], amzn['Position value']],\n",
    "                         axis=1)\n",
    "portfolio_val.columns = ['Aapl Pos', 'Cisco Pos', 'Ibm Pos', 'Amzn Pos']\n",
    "portfolio_val['Total'] = portfolio_val.sum(axis=1)\n",
    "portfolio_val.head(3)"
   ]
  },
  {
   "cell_type": "code",
   "execution_count": 15,
   "metadata": {},
   "outputs": [
    {
     "data": {
      "image/png": "[encoded data removed]",
      "text/plain": [
       "<matplotlib.figure.Figure at 0x2894a4995f8>"
      ]
     },
     "metadata": {},
     "output_type": "display_data"
    }
   ],
   "source": [
    "portfolio_val.drop('Total', axis=1).plot();"
   ]
  },
  {
   "cell_type": "markdown",
   "metadata": {},
   "source": [
    "# Portfolio Statistics #\n",
    "### Daily Returns ###"
   ]
  },
  {
   "cell_type": "code",
   "execution_count": 16,
   "metadata": {
    "collapsed": true
   },
   "outputs": [],
   "source": [
    "portfolio_val['Daily Return'] = portfolio_val['Total'].pct_change(1)"
   ]
  },
  {
   "cell_type": "markdown",
   "metadata": {},
   "source": [
    "### Cumulative Return ###"
   ]
  },
  {
   "cell_type": "code",
   "execution_count": 17,
   "metadata": {},
   "outputs": [
    {
     "name": "stdout",
     "output_type": "stream",
     "text": [
      "The cumulative return is 84.743%\n"
     ]
    }
   ],
   "source": [
    "cum_ret = 100*(portfolio_val['Total'][-1]/portfolio_val['Total'][0] - 1)\n",
    "print('The cumulative return is {:6.3f}%'.format(cum_ret))"
   ]
  },
  {
   "cell_type": "markdown",
   "metadata": {},
   "source": [
    "### Average Daily Return ###"
   ]
  },
  {
   "cell_type": "code",
   "execution_count": 18,
   "metadata": {},
   "outputs": [
    {
     "data": {
      "text/plain": [
       "0.0005442330716215244"
      ]
     },
     "execution_count": 18,
     "metadata": {},
     "output_type": "execute_result"
    }
   ],
   "source": [
    "portfolio_val['Daily Return'].mean()"
   ]
  },
  {
   "cell_type": "markdown",
   "metadata": {},
   "source": [
    "### Std Daily Deviation ### "
   ]
  },
  {
   "cell_type": "code",
   "execution_count": 19,
   "metadata": {},
   "outputs": [
    {
     "data": {
      "text/plain": [
       "0.010568287769161725"
      ]
     },
     "execution_count": 19,
     "metadata": {},
     "output_type": "execute_result"
    }
   ],
   "source": [
    "portfolio_val['Daily Return'].std()"
   ]
  },
  {
   "cell_type": "code",
   "execution_count": 20,
   "metadata": {},
   "outputs": [
    {
     "data": {
      "image/png": "[encoded data removed]",
      "text/plain": [
       "<matplotlib.figure.Figure at 0x2894a41fbe0>"
      ]
     },
     "metadata": {},
     "output_type": "display_data"
    }
   ],
   "source": [
    "portfolio_val['Daily Return'].plot(kind='kde');"
   ]
  },
  {
   "cell_type": "markdown",
   "metadata": {},
   "source": [
    "# Sharpe ratio #\n",
    "* SR = (Rp - Rf)/Dlta_p (in other words: SR=mean return/Std.Deviaiton\n",
    "* Annualized Sharp ratio: ASR = K*SR, where K=sqrt(252), sqrt(52), sqrt(12) for daily, weekly, monthly data sampling rate\n",
    "\n",
    "Why? <br> Central limit theroem: yearly_std = daily_std/sqrt(252), and if assum: yearly_return = daily_return ** 252 \n",
    "<br>\n",
    "==> yearly_return/yearly_std = daily_return/daily_std * sqrt(252"
   ]
  },
  {
   "cell_type": "markdown",
   "metadata": {},
   "source": [
    "It is said that ASR > 1 is good to investers; ASR > 2 is very good"
   ]
  },
  {
   "cell_type": "code",
   "execution_count": 21,
   "metadata": {},
   "outputs": [
    {
     "name": "stdout",
     "output_type": "stream",
     "text": [
      "0.05149680662648089\n"
     ]
    }
   ],
   "source": [
    "SR = portfolio_val['Daily Return'].mean()/portfolio_val['Daily Return'].std()\n",
    "print(SR)"
   ]
  },
  {
   "cell_type": "code",
   "execution_count": 22,
   "metadata": {},
   "outputs": [
    {
     "data": {
      "text/plain": [
       "0.817486461885909"
      ]
     },
     "execution_count": 22,
     "metadata": {},
     "output_type": "execute_result"
    }
   ],
   "source": [
    "ASR = np.sqrt(252)*SR\n",
    "ASR"
   ]
  },
  {
   "cell_type": "markdown",
   "metadata": {},
   "source": [
    "# Log Return #\n",
    "#### Advantage of log return:####\n",
    "* log(a1/a0) + log(a2/a1) + ... + log(a_n/a_n-1) = log(a_n/a0) ==> easy to calculate total log return and daily log return\n",
    "* log(a1/a0) = log(1 + delta/a0) ~ delta/a0 ==> assume delta << a0, log_return ~ pct_change"
   ]
  },
  {
   "cell_type": "code",
   "execution_count": 23,
   "metadata": {
    "collapsed": true
   },
   "outputs": [],
   "source": [
    "clmns = ['Aapl Pos', 'Cisco Pos', 'Ibm Pos','Amzn Pos']\n",
    "log_ret = np.log(portfolio_val[clmns]/portfolio_val[clmns].shift(1))"
   ]
  },
  {
   "cell_type": "code",
   "execution_count": 24,
   "metadata": {},
   "outputs": [
    {
     "data": {
      "text/html": [
       "<div>\n",
       "<style scoped>\n",
       "    .dataframe tbody tr th:only-of-type {\n",
       "        vertical-align: middle;\n",
       "    }\n",
       "\n",
       "    .dataframe tbody tr th {\n",
       "        vertical-align: top;\n",
       "    }\n",
       "\n",
       "    .dataframe thead th {\n",
       "        text-align: right;\n",
       "    }\n",
       "</style>\n",
       "<table border=\"1\" class=\"dataframe\">\n",
       "  <thead>\n",
       "    <tr style=\"text-align: right;\">\n",
       "      <th></th>\n",
       "      <th>Aapl Pos</th>\n",
       "      <th>Cisco Pos</th>\n",
       "      <th>Ibm Pos</th>\n",
       "      <th>Amzn Pos</th>\n",
       "    </tr>\n",
       "    <tr>\n",
       "      <th>Date</th>\n",
       "      <th></th>\n",
       "      <th></th>\n",
       "      <th></th>\n",
       "      <th></th>\n",
       "    </tr>\n",
       "  </thead>\n",
       "  <tbody>\n",
       "    <tr>\n",
       "      <th>2012-01-03</th>\n",
       "      <td>NaN</td>\n",
       "      <td>NaN</td>\n",
       "      <td>NaN</td>\n",
       "      <td>NaN</td>\n",
       "    </tr>\n",
       "    <tr>\n",
       "      <th>2012-01-04</th>\n",
       "      <td>0.005360</td>\n",
       "      <td>0.019139</td>\n",
       "      <td>-0.004088</td>\n",
       "      <td>-0.008526</td>\n",
       "    </tr>\n",
       "    <tr>\n",
       "      <th>2012-01-05</th>\n",
       "      <td>0.011041</td>\n",
       "      <td>-0.003693</td>\n",
       "      <td>-0.004754</td>\n",
       "      <td>0.000563</td>\n",
       "    </tr>\n",
       "  </tbody>\n",
       "</table>\n",
       "</div>"
      ],
      "text/plain": [
       "            Aapl Pos  Cisco Pos   Ibm Pos  Amzn Pos\n",
       "Date                                               \n",
       "2012-01-03       NaN        NaN       NaN       NaN\n",
       "2012-01-04  0.005360   0.019139 -0.004088 -0.008526\n",
       "2012-01-05  0.011041  -0.003693 -0.004754  0.000563"
      ]
     },
     "execution_count": 24,
     "metadata": {},
     "output_type": "execute_result"
    }
   ],
   "source": [
    "log_ret.head(3)"
   ]
  },
  {
   "cell_type": "code",
   "execution_count": 25,
   "metadata": {},
   "outputs": [
    {
     "data": {
      "image/png": "[encoded data removed]",
      "text/plain": [
       "<matplotlib.figure.Figure at 0x2894b206668>"
      ]
     },
     "metadata": {},
     "output_type": "display_data"
    }
   ],
   "source": [
    "log_ret.hist(bins=100, figsize=(8,6))\n",
    "plt.tight_layout()"
   ]
  },
  {
   "cell_type": "code",
   "execution_count": 26,
   "metadata": {},
   "outputs": [
    {
     "data": {
      "text/plain": [
       "Aapl Pos     0.154803\n",
       "Cisco Pos    0.125291\n",
       "Ibm Pos      0.002788\n",
       "Amzn Pos     0.287153\n",
       "dtype: float64"
      ]
     },
     "execution_count": 26,
     "metadata": {},
     "output_type": "execute_result"
    }
   ],
   "source": [
    "log_ret.mean()*252"
   ]
  },
  {
   "cell_type": "code",
   "execution_count": 27,
   "metadata": {},
   "outputs": [
    {
     "data": {
      "text/html": [
       "<div>\n",
       "<style scoped>\n",
       "    .dataframe tbody tr th:only-of-type {\n",
       "        vertical-align: middle;\n",
       "    }\n",
       "\n",
       "    .dataframe tbody tr th {\n",
       "        vertical-align: top;\n",
       "    }\n",
       "\n",
       "    .dataframe thead th {\n",
       "        text-align: right;\n",
       "    }\n",
       "</style>\n",
       "<table border=\"1\" class=\"dataframe\">\n",
       "  <thead>\n",
       "    <tr style=\"text-align: right;\">\n",
       "      <th></th>\n",
       "      <th>Aapl Pos</th>\n",
       "      <th>Cisco Pos</th>\n",
       "      <th>Ibm Pos</th>\n",
       "      <th>Amzn Pos</th>\n",
       "    </tr>\n",
       "  </thead>\n",
       "  <tbody>\n",
       "    <tr>\n",
       "      <th>Aapl Pos</th>\n",
       "      <td>0.000271</td>\n",
       "      <td>0.000071</td>\n",
       "      <td>0.000057</td>\n",
       "      <td>0.000075</td>\n",
       "    </tr>\n",
       "    <tr>\n",
       "      <th>Cisco Pos</th>\n",
       "      <td>0.000071</td>\n",
       "      <td>0.000204</td>\n",
       "      <td>0.000072</td>\n",
       "      <td>0.000079</td>\n",
       "    </tr>\n",
       "    <tr>\n",
       "      <th>Ibm Pos</th>\n",
       "      <td>0.000057</td>\n",
       "      <td>0.000072</td>\n",
       "      <td>0.000140</td>\n",
       "      <td>0.000059</td>\n",
       "    </tr>\n",
       "    <tr>\n",
       "      <th>Amzn Pos</th>\n",
       "      <td>0.000075</td>\n",
       "      <td>0.000079</td>\n",
       "      <td>0.000059</td>\n",
       "      <td>0.000375</td>\n",
       "    </tr>\n",
       "  </tbody>\n",
       "</table>\n",
       "</div>"
      ],
      "text/plain": [
       "           Aapl Pos  Cisco Pos   Ibm Pos  Amzn Pos\n",
       "Aapl Pos   0.000271   0.000071  0.000057  0.000075\n",
       "Cisco Pos  0.000071   0.000204  0.000072  0.000079\n",
       "Ibm Pos    0.000057   0.000072  0.000140  0.000059\n",
       "Amzn Pos   0.000075   0.000079  0.000059  0.000375"
      ]
     },
     "execution_count": 27,
     "metadata": {},
     "output_type": "execute_result"
    }
   ],
   "source": [
    "# pairwise covariance of columns\n",
    "log_ret.cov()"
   ]
  },
  {
   "cell_type": "markdown",
   "metadata": {},
   "source": [
    "# Portfolio optimization #\n",
    "Modern Portfolio Theory (MTP): maximize Sharpe Ratio"
   ]
  },
  {
   "cell_type": "markdown",
   "metadata": {},
   "source": [
    "## Monte Carlo simulation for optimization search ##\n",
    "Using the average return over all the data !!"
   ]
  },
  {
   "cell_type": "code",
   "execution_count": 37,
   "metadata": {
    "collapsed": true
   },
   "outputs": [],
   "source": [
    "num_loops = 15000\n",
    "clmns = len(log_ret.columns)\n",
    "\n",
    "all_weights = np.zeros((num_loops, clmns))  # keep a record for find the optimized weghts\n",
    "ret_arr = np.zeros((num_loops,))  # yearly return for all possible portfolio weights. keep an array for plotting\n",
    "volat_arr = np.zeros((num_loops,))  # yearly volatility for all possible portfolio weights. keep an array for plotting\n",
    "sharpe = np.zeros((num_loops,))  # annually sharpe ratio for all possible portfolio weights. keep an array for plotting\n",
    "\n",
    "np.random.seed(101)\n",
    "for i in range(num_loops):\n",
    "    weights = np.array(np.random.random(clmns))   # shape: (clmns,)\n",
    "    weights = weights/sum(weights)\n",
    "    all_weights[i, :] = weights\n",
    "    ret_arr[i] = np.sum(log_ret.mean()*weights*252)  # yearly return = daily return * days, because log-return !!! \n",
    "    volat_arr[i]= np.sqrt(np.dot(np.dot(weights.T, log_ret.cov()*252), weights))  # yearly volatility, at loop i\n",
    "    # it is a simple way of coding for speed, but it took me a while to confirm the math, see comments below.\n",
    "    sharpe[i] = ret_arr[i]/volat_arr[i]\n"
   ]
  },
  {
   "cell_type": "markdown",
   "metadata": {},
   "source": [
    "### the math of this yearly volatility calculation ###\n",
    "- using covariance matrix for portfolio volatility: <br>\n",
    "Assume the dataframe A has data $ a \\in \\mathbb{R}^{N\\times p}$, with $\\bar{a}_j$ represents the mean of jth column. Its covariance is: <br>\n",
    "$$ (A.cov)_{ij} = \\frac{1}{N} \\sum_{k=1}^{N}(a_{ki}-\\bar{a_i})(a_{kj}-\\bar{a_j})$$ <br>\n",
    "The calculation used in the code is (where w_i is the weight for ith column): <br>\n",
    "$$ \\sum_{i=1}^{p}\\sum_{j=1}^{p}w_i(A.cov)_{ij}w_j = \\frac{1}{N}\\sum_{k=1}^{N}\\sum_{ij}^{p}w_i(a_{ki}-\\bar{a_i})(a_{kj}-\\bar{a_j})w_j = \\frac{1}{N}\\sum_{k=1}^{N}(\\sum_{i=1}^{p}w_i a_{ki} - \\sum_{i=1}^{p}w_i \\bar{a_i})(\\sum_{j=1}^{p}w_j a_{kj} - \\sum_{j=1}^{p}w_j \\bar{a_j}) = \\frac{1}{N}\\sum_{k=1}^{N}(A_k - \\bar{A_k})^2 $$\n",
    "where $ A_k = \\sum_{i=1}^{p}w_i a_{ki}$  , and $ \\bar{A_k} = \\sum_{i=1}^{p}w_i \\bar{a_i} $ are the weight averaged _k_ th row of A data <br>\n",
    "** Becuase $w_i$ is only column dependent, not row dependent, therefore the above equiations are always valid ** \n",
    "\n",
    "- About converting daily covariance to yearly covariance. <br>\n",
    "According to central limit theorem, with sample size of N, the sample mean std is orignal std divided by sqrt(N), therefore the yearly mean covariance should be the daily covariance divided by N where N is 252. <br>\n",
    "- But I do have a problem with covariance calculation: <br>\n",
    "Because the stock \"Close\" data are obviously NOT stationary, where the mean values are different from year to year, therefore the actual sampling of each year is NOT \"randomly\" from all the data, therefore does the central limit theorem still valid? If a stock has not volatility but only monotonically increase, with the algorithm given here, the increase will create covariance."
   ]
  },
  {
   "cell_type": "code",
   "execution_count": 38,
   "metadata": {},
   "outputs": [
    {
     "data": {
      "text/plain": [
       "1.0303260551271316"
      ]
     },
     "execution_count": 38,
     "metadata": {},
     "output_type": "execute_result"
    }
   ],
   "source": [
    "sharpe.max()"
   ]
  },
  {
   "cell_type": "code",
   "execution_count": 40,
   "metadata": {},
   "outputs": [
    {
     "data": {
      "text/plain": [
       "array([0.26188068, 0.20759516, 0.00110226, 0.5294219 ])"
      ]
     },
     "execution_count": 40,
     "metadata": {},
     "output_type": "execute_result"
    }
   ],
   "source": [
    "all_weights[sharpe.argmax()]"
   ]
  },
  {
   "cell_type": "markdown",
   "metadata": {},
   "source": [
    "## Plotting the data ##"
   ]
  },
  {
   "cell_type": "code",
   "execution_count": 42,
   "metadata": {},
   "outputs": [
    {
     "data": {
      "text/plain": [
       "<matplotlib.text.Text at 0x2894d20d860>"
      ]
     },
     "execution_count": 42,
     "metadata": {},
     "output_type": "execute_result"
    },
    {
     "data": {
      "image/png": "[encoded data removed]",
      "text/plain": [
       "<matplotlib.figure.Figure at 0x2894ca1c240>"
      ]
     },
     "metadata": {},
     "output_type": "display_data"
    }
   ],
   "source": [
    "return_optim = ret_arr[sharpe.argmax()]\n",
    "volat_optim = volat_arr[sharpe.argmax()]\n",
    "plt.scatter(volat_arr, ret_arr, c=sharpe, cmap='plasma')\n",
    "plt.scatter(volat_optim, return_optim, s=50, c='red', edgecolors='k')  # the red dot at optim\n",
    "plt.xlabel('Volatility')\n",
    "plt.ylabel('Return')"
   ]
  },
  {
   "cell_type": "markdown",
   "metadata": {},
   "source": [
    "## Portfolio optimization using scipy.optimize ##"
   ]
  },
  {
   "cell_type": "code",
   "execution_count": 47,
   "metadata": {
    "collapsed": true
   },
   "outputs": [],
   "source": [
    "from scipy.optimize import minimize"
   ]
  },
  {
   "cell_type": "code",
   "execution_count": 43,
   "metadata": {
    "collapsed": true
   },
   "outputs": [],
   "source": [
    "def get_ret_vol_sr(weights):\n",
    "    \"\"\"\n",
    "    Takes in weights, returns array of return,volatility, sharpe ratio\n",
    "    \"\"\"\n",
    "    weights = np.array(weights)\n",
    "    ret = np.sum(log_ret.mean() * weights) * 252\n",
    "    vol = np.sqrt(np.dot(weights.T, np.dot(log_ret.cov() * 252, weights)))\n",
    "    sr = ret/vol\n",
    "    return np.array([ret,vol,sr])"
   ]
  },
  {
   "cell_type": "code",
   "execution_count": 44,
   "metadata": {
    "collapsed": true
   },
   "outputs": [],
   "source": [
    "def neg_sharpe(weights):  # because scipy minimizing target\n",
    "    return  get_ret_vol_sr(weights)[2] * (-1)"
   ]
  },
  {
   "cell_type": "code",
   "execution_count": 45,
   "metadata": {
    "collapsed": true
   },
   "outputs": [],
   "source": [
    "# Contraints\n",
    "def check_sum(weights):\n",
    "    '''\n",
    "    Returns 0 if sum of weights is 1.0\n",
    "    '''\n",
    "    return np.sum(weights) - 1"
   ]
  },
  {
   "cell_type": "code",
   "execution_count": 46,
   "metadata": {
    "collapsed": true
   },
   "outputs": [],
   "source": [
    "# By convention of minimize function it should be a function that returns zero for conditions\n",
    "cons = ({'type':'eq','fun': check_sum})"
   ]
  },
  {
   "cell_type": "code",
   "execution_count": 48,
   "metadata": {
    "collapsed": true
   },
   "outputs": [],
   "source": [
    "# 0-1 bounds for each weight\n",
    "bounds = ((0, 1), (0, 1), (0, 1), (0, 1))"
   ]
  },
  {
   "cell_type": "code",
   "execution_count": 49,
   "metadata": {
    "collapsed": true
   },
   "outputs": [],
   "source": [
    "# Initial Guess (equal distribution)\n",
    "init_guess = [0.25,0.25,0.25,0.25]"
   ]
  },
  {
   "cell_type": "code",
   "execution_count": 50,
   "metadata": {
    "collapsed": true
   },
   "outputs": [],
   "source": [
    "# Sequential Least SQuares Programming (SLSQP).\n",
    "opt_results = minimize(neg_sharpe,init_guess,method='SLSQP',bounds=bounds,constraints=cons)"
   ]
  },
  {
   "cell_type": "code",
   "execution_count": 51,
   "metadata": {},
   "outputs": [
    {
     "data": {
      "text/plain": [
       "     fun: -1.0307168703352194\n",
       "     jac: array([ 5.64306974e-05,  4.18573618e-05,  3.39921713e-01, -4.45097685e-05])\n",
       " message: 'Optimization terminated successfully.'\n",
       "    nfev: 42\n",
       "     nit: 7\n",
       "    njev: 7\n",
       "  status: 0\n",
       " success: True\n",
       "       x: array([0.26628976, 0.20418983, 0.        , 0.5295204 ])"
      ]
     },
     "execution_count": 51,
     "metadata": {},
     "output_type": "execute_result"
    }
   ],
   "source": [
    "opt_results"
   ]
  },
  {
   "cell_type": "code",
   "execution_count": 52,
   "metadata": {},
   "outputs": [
    {
     "data": {
      "text/plain": [
       "array([0.26628976, 0.20418983, 0.        , 0.5295204 ])"
      ]
     },
     "execution_count": 52,
     "metadata": {},
     "output_type": "execute_result"
    }
   ],
   "source": [
    "opt_results.x   # the inputs of the optimized function, neg_sharpe"
   ]
  },
  {
   "cell_type": "code",
   "execution_count": 53,
   "metadata": {},
   "outputs": [
    {
     "data": {
      "text/plain": [
       "array([0.21885915, 0.21233683, 1.03071687])"
      ]
     },
     "execution_count": 53,
     "metadata": {},
     "output_type": "execute_result"
    }
   ],
   "source": [
    "# the yearly return, volatility, sharpe ratio, when optimized\n",
    "get_ret_vol_sr(opt_results.x)"
   ]
  },
  {
   "cell_type": "markdown",
   "metadata": {},
   "source": [
    "# Frontier Line for Portfolio Optimization # \n",
    "To calculate a line, instead of 2D dots, in the return vs volatility graph"
   ]
  },
  {
   "cell_type": "code",
   "execution_count": 54,
   "metadata": {
    "collapsed": true
   },
   "outputs": [],
   "source": [
    "frontier_y = np.linspace(0,0.3,100) # previous plot shows data of y from 0 to somewhere along 0.3"
   ]
  },
  {
   "cell_type": "code",
   "execution_count": 55,
   "metadata": {
    "collapsed": true
   },
   "outputs": [],
   "source": [
    "def minimize_volatility(weights):\n",
    "    return  get_ret_vol_sr(weights)[1] "
   ]
  },
  {
   "cell_type": "code",
   "execution_count": 56,
   "metadata": {
    "collapsed": true
   },
   "outputs": [],
   "source": [
    "frontier_volatility = []\n",
    "\n",
    "for possible_y in frontier_y:\n",
    "    # function for return\n",
    "    cons = ({'type':'eq','fun': check_sum},\n",
    "            {'type':'eq','fun': lambda w: get_ret_vol_sr(w)[0] - possible_y})\n",
    "    \n",
    "    result = minimize(minimize_volatility,init_guess,method='SLSQP',bounds=bounds,constraints=cons)\n",
    "    \n",
    "    frontier_volatility.append(result['fun'])"
   ]
  },
  {
   "cell_type": "code",
   "execution_count": 60,
   "metadata": {},
   "outputs": [
    {
     "data": {
      "text/plain": [
       "[<matplotlib.lines.Line2D at 0x2894b48e898>]"
      ]
     },
     "execution_count": 60,
     "metadata": {},
     "output_type": "execute_result"
    },
    {
     "data": {
      "image/png": "[encoded data removed]",
      "text/plain": [
       "<matplotlib.figure.Figure at 0x2894b644dd8>"
      ]
     },
     "metadata": {},
     "output_type": "display_data"
    }
   ],
   "source": [
    "plt.figure(figsize=(8,5))\n",
    "plt.scatter(volat_arr,ret_arr,c=sharpe,cmap='plasma')\n",
    "plt.colorbar(label='Sharpe Ratio')\n",
    "plt.xlabel('Volatility')\n",
    "plt.ylabel('Return')\n",
    "# Add frontier line\n",
    "plt.plot(frontier_volatility,frontier_y,'g--',linewidth=3)"
   ]
  },
  {
   "cell_type": "code",
   "execution_count": null,
   "metadata": {
    "collapsed": true
   },
   "outputs": [],
   "source": []
  }
 ],
 "metadata": {
  "kernelspec": {
   "display_name": "Python 3",
   "language": "python",
   "name": "python3"
  },
  "language_info": {
   "codemirror_mode": {
    "name": "ipython",
    "version": 3
   },
   "file_extension": ".py",
   "mimetype": "text/x-python",
   "name": "python",
   "nbconvert_exporter": "python",
   "pygments_lexer": "ipython3",
   "version": "3.5.4"
  }
 },
 "nbformat": 4,
 "nbformat_minor": 2
}
