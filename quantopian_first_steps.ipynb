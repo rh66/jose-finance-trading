{
 "cells": [
  {
   "cell_type": "markdown",
   "metadata": {},
   "source": [
    "___________________________\n",
    "Practice and notes from online course: \n",
    "[Python for Financial Analysis and Algorithmic Trading](https://www.udemy.com/python-for-finance-and-trading-algorithms/learn/v4/content) <br>\n",
    "Comments are just out of my understanding, mostly\n",
    "# A start of Quantopian finance analysis # \n",
    "notebook & algorithms\n",
    "____________________________\n",
    "#### get_pricing, symbol #### \n",
    "#### Quantopian Pipeline (Data, Factors, Fliters and Screens, Masking, Classifiers)\n",
    "#### Pairs trading, z-score, backtesting ####\n",
    "#### Another example in IDE: simple Bollinger Bands\n",
    "The first part run on quantopian notebook; <br>\n",
    "The second part run on quantopian algorithm IDE"
   ]
  },
  {
   "cell_type": "code",
   "execution_count": 1,
   "metadata": {
    "collapsed": true
   },
   "outputs": [],
   "source": [
    "import numpy as np\n",
    "import pandas as pd\n",
    "import matplotlib.pyplot as plt\n",
    "# NO NEED TO DO MAGIC INLINE COMMAND ON QUANTOPIAN!"
   ]
  },
  {
   "cell_type": "markdown",
   "metadata": {},
   "source": [
    "### get_pricing ### \n",
    "`get_pricing` provides 12 years of US equity price data. Same data used for quantopian backtester"
   ]
  },
  {
   "cell_type": "code",
   "execution_count": 2,
   "metadata": {},
   "outputs": [
    {
     "data": {
      "text/html": [
       "<div>\n",
       "<table border=\"1\" class=\"dataframe\">\n",
       "  <thead>\n",
       "    <tr style=\"text-align: right;\">\n",
       "      <th></th>\n",
       "      <th>open_price</th>\n",
       "      <th>high</th>\n",
       "      <th>low</th>\n",
       "      <th>close_price</th>\n",
       "      <th>volume</th>\n",
       "      <th>price</th>\n",
       "    </tr>\n",
       "  </thead>\n",
       "  <tbody>\n",
       "    <tr>\n",
       "      <th>2017-01-03 14:31:00+00:00</th>\n",
       "      <td>121.86</td>\n",
       "      <td>121.86</td>\n",
       "      <td>121.57</td>\n",
       "      <td>121.63</td>\n",
       "      <td>123665.0</td>\n",
       "      <td>121.63</td>\n",
       "    </tr>\n",
       "    <tr>\n",
       "      <th>2017-01-03 14:32:00+00:00</th>\n",
       "      <td>121.73</td>\n",
       "      <td>121.92</td>\n",
       "      <td>121.41</td>\n",
       "      <td>121.45</td>\n",
       "      <td>13536.0</td>\n",
       "      <td>121.45</td>\n",
       "    </tr>\n",
       "    <tr>\n",
       "      <th>2017-01-03 14:33:00+00:00</th>\n",
       "      <td>121.45</td>\n",
       "      <td>121.79</td>\n",
       "      <td>121.45</td>\n",
       "      <td>121.52</td>\n",
       "      <td>17562.0</td>\n",
       "      <td>121.52</td>\n",
       "    </tr>\n",
       "    <tr>\n",
       "      <th>2017-01-03 14:34:00+00:00</th>\n",
       "      <td>121.45</td>\n",
       "      <td>121.80</td>\n",
       "      <td>121.44</td>\n",
       "      <td>121.75</td>\n",
       "      <td>12072.0</td>\n",
       "      <td>121.75</td>\n",
       "    </tr>\n",
       "    <tr>\n",
       "      <th>2017-01-03 14:35:00+00:00</th>\n",
       "      <td>121.74</td>\n",
       "      <td>122.00</td>\n",
       "      <td>121.66</td>\n",
       "      <td>121.99</td>\n",
       "      <td>8100.0</td>\n",
       "      <td>121.99</td>\n",
       "    </tr>\n",
       "  </tbody>\n",
       "</table>\n",
       "</div>"
      ],
      "text/plain": [
       "                           open_price    high     low  close_price    volume  \\\n",
       "2017-01-03 14:31:00+00:00      121.86  121.86  121.57       121.63  123665.0   \n",
       "2017-01-03 14:32:00+00:00      121.73  121.92  121.41       121.45   13536.0   \n",
       "2017-01-03 14:33:00+00:00      121.45  121.79  121.45       121.52   17562.0   \n",
       "2017-01-03 14:34:00+00:00      121.45  121.80  121.44       121.75   12072.0   \n",
       "2017-01-03 14:35:00+00:00      121.74  122.00  121.66       121.99    8100.0   \n",
       "\n",
       "                            price  \n",
       "2017-01-03 14:31:00+00:00  121.63  \n",
       "2017-01-03 14:32:00+00:00  121.45  \n",
       "2017-01-03 14:33:00+00:00  121.52  \n",
       "2017-01-03 14:34:00+00:00  121.75  \n",
       "2017-01-03 14:35:00+00:00  121.99  "
      ]
     },
     "execution_count": 2,
     "metadata": {},
     "output_type": "execute_result"
    }
   ],
   "source": [
    "mcdon = get_pricing('MCD', start_date='2017-01-01', end_date = '2017-02-01', \n",
    "                    frequency='minute')\n",
    "mcdon.head()"
   ]
  },
  {
   "cell_type": "code",
   "execution_count": 3,
   "metadata": {},
   "outputs": [
    {
     "name": "stdout",
     "output_type": "stream",
     "text": [
      "<class 'pandas.core.frame.DataFrame'>\n",
      "DatetimeIndex: 8190 entries, 2017-01-03 14:31:00+00:00 to 2017-02-01 21:00:00+00:00\n",
      "Data columns (total 6 columns):\n",
      "open_price     8188 non-null float64\n",
      "high           8188 non-null float64\n",
      "low            8188 non-null float64\n",
      "close_price    8188 non-null float64\n",
      "volume         8190 non-null float64\n",
      "price          8190 non-null float64\n",
      "dtypes: float64(6)\n",
      "memory usage: 447.9 KB\n"
     ]
    }
   ],
   "source": [
    "mcdon.info()"
   ]
  },
  {
   "cell_type": "code",
   "execution_count": 5,
   "metadata": {},
   "outputs": [
    {
     "data": {
      "text/plain": [
       "<matplotlib.axes._subplots.AxesSubplot at 0x7f53cea79c90>"
      ]
     },
     "execution_count": 5,
     "metadata": {},
     "output_type": "execute_result"
    },
    {
     "data": {
      "image/png": "[encoded data removed]",
      "text/plain": [
       "<matplotlib.figure.Figure at 0x7f53cea1cc50>"
      ]
     },
     "metadata": {},
     "output_type": "display_data"
    }
   ],
   "source": [
    "mcdon = get_pricing('MCD', start_date='2005-01-01', \n",
    "                    end_date = '2017-01-01', \n",
    "                    frequency='daily')\n",
    "mcdon['close_price'].plot(figsize=(7,5))"
   ]
  },
  {
   "cell_type": "code",
   "execution_count": 7,
   "metadata": {},
   "outputs": [
    {
     "data": {
      "image/png": "[encoded data removed]",
      "text/plain": [
       "<matplotlib.figure.Figure at 0x7f53ce11ff10>"
      ]
     },
     "metadata": {},
     "output_type": "display_data"
    }
   ],
   "source": [
    "mcdon['close_price'].pct_change(1).hist(bins=100, figsize=(6,4));"
   ]
  },
  {
   "cell_type": "markdown",
   "metadata": {},
   "source": [
    "###symbols()###"
   ]
  },
  {
   "cell_type": "code",
   "execution_count": 8,
   "metadata": {},
   "outputs": [
    {
     "data": {
      "text/plain": [
       "Equity(4707 [MCD])"
      ]
     },
     "execution_count": 8,
     "metadata": {},
     "output_type": "execute_result"
    }
   ],
   "source": [
    "symbols('MCD', symbol_reference_date='2010-01-01')"
   ]
  },
  {
   "cell_type": "code",
   "execution_count": 9,
   "metadata": {
    "collapsed": true
   },
   "outputs": [],
   "source": [
    "mcdon_info = symbols('MCD', symbol_reference_date='2010-01-01')"
   ]
  },
  {
   "cell_type": "code",
   "execution_count": 10,
   "metadata": {},
   "outputs": [
    {
     "name": "stdout",
     "output_type": "stream",
     "text": [
      "<type 'zipline.assets._assets.Equity'>\n"
     ]
    }
   ],
   "source": [
    "print(type(mcdon_info))"
   ]
  },
  {
   "cell_type": "code",
   "execution_count": 11,
   "metadata": {},
   "outputs": [
    {
     "name": "stdout",
     "output_type": "stream",
     "text": [
      "Equity(4707 [MCD])\n"
     ]
    }
   ],
   "source": [
    "print(mcdon_info)"
   ]
  },
  {
   "cell_type": "code",
   "execution_count": 14,
   "metadata": {},
   "outputs": [
    {
     "data": {
      "text/plain": [
       "{'asset_name': u'MCDONALDS CORP',\n",
       " 'auto_close_date': Timestamp('2018-09-19 00:00:00+0000', tz='UTC'),\n",
       " 'end_date': Timestamp('2018-09-14 00:00:00+0000', tz='UTC'),\n",
       " 'exchange': u'NYSE',\n",
       " 'exchange_full': u'NEW YORK STOCK EXCHANGE',\n",
       " 'exchange_info': ExchangeInfo(u'NEW YORK STOCK EXCHANGE', u'NYSE', u'US'),\n",
       " 'first_traded': None,\n",
       " 'multiplier': 1.0,\n",
       " 'sid': 4707,\n",
       " 'start_date': Timestamp('2002-01-01 00:00:00+0000', tz='UTC'),\n",
       " 'symbol': u'MCD',\n",
       " 'tick_size': 0.01}"
      ]
     },
     "execution_count": 14,
     "metadata": {},
     "output_type": "execute_result"
    }
   ],
   "source": [
    "mcdon_info.to_dict()"
   ]
  },
  {
   "cell_type": "markdown",
   "metadata": {},
   "source": [
    "# Pipeline"
   ]
  },
  {
   "cell_type": "code",
   "execution_count": 60,
   "metadata": {
    "collapsed": true
   },
   "outputs": [],
   "source": [
    "from quantopian.pipeline import Pipeline\n",
    "from quantopian.research import run_pipeline\n",
    "from quantopian.pipeline.data.builtin import USEquityPricing\n",
    "from quantopian.pipeline.factors import BollingerBands, SimpleMovingAverage, EWMA\n",
    "from quantopian.pipeline.data import morningstar        # for classifier\n",
    "from quantopian.pipeline.classifiers.morningstar import Sector"
   ]
  },
  {
   "cell_type": "code",
   "execution_count": 61,
   "metadata": {
    "collapsed": true
   },
   "outputs": [],
   "source": [
    "result = run_pipeline(Pipeline(), '2017-01-01', '2017-01-01')"
   ]
  },
  {
   "cell_type": "code",
   "execution_count": 62,
   "metadata": {},
   "outputs": [
    {
     "data": {
      "text/html": [
       "<div>\n",
       "<table border=\"1\" class=\"dataframe\">\n",
       "  <thead>\n",
       "    <tr style=\"text-align: right;\">\n",
       "      <th></th>\n",
       "      <th></th>\n",
       "    </tr>\n",
       "  </thead>\n",
       "  <tbody>\n",
       "    <tr>\n",
       "      <th rowspan=\"10\" valign=\"top\">2017-01-03 00:00:00+00:00</th>\n",
       "      <th>Equity(2 [ARNC])</th>\n",
       "    </tr>\n",
       "    <tr>\n",
       "      <th>Equity(21 [AAME])</th>\n",
       "    </tr>\n",
       "    <tr>\n",
       "      <th>Equity(24 [AAPL])</th>\n",
       "    </tr>\n",
       "    <tr>\n",
       "      <th>Equity(25 [ARNC_PR])</th>\n",
       "    </tr>\n",
       "    <tr>\n",
       "      <th>Equity(31 [ABAX])</th>\n",
       "    </tr>\n",
       "    <tr>\n",
       "      <th>Equity(39 [DDC])</th>\n",
       "    </tr>\n",
       "    <tr>\n",
       "      <th>Equity(41 [ARCB])</th>\n",
       "    </tr>\n",
       "    <tr>\n",
       "      <th>Equity(52 [ABM])</th>\n",
       "    </tr>\n",
       "    <tr>\n",
       "      <th>Equity(53 [ABMD])</th>\n",
       "    </tr>\n",
       "    <tr>\n",
       "      <th>Equity(62 [ABT])</th>\n",
       "    </tr>\n",
       "  </tbody>\n",
       "</table>\n",
       "</div>"
      ],
      "text/plain": [
       "Empty DataFrame\n",
       "Columns: []\n",
       "Index: [(2017-01-03 00:00:00+00:00, Equity(2 [ARNC])), (2017-01-03 00:00:00+00:00, Equity(21 [AAME])), (2017-01-03 00:00:00+00:00, Equity(24 [AAPL])), (2017-01-03 00:00:00+00:00, Equity(25 [ARNC_PR])), (2017-01-03 00:00:00+00:00, Equity(31 [ABAX])), (2017-01-03 00:00:00+00:00, Equity(39 [DDC])), (2017-01-03 00:00:00+00:00, Equity(41 [ARCB])), (2017-01-03 00:00:00+00:00, Equity(52 [ABM])), (2017-01-03 00:00:00+00:00, Equity(53 [ABMD])), (2017-01-03 00:00:00+00:00, Equity(62 [ABT]))]"
      ]
     },
     "execution_count": 62,
     "metadata": {},
     "output_type": "execute_result"
    }
   ],
   "source": [
    "result.head(10)"
   ]
  },
  {
   "cell_type": "code",
   "execution_count": 63,
   "metadata": {},
   "outputs": [
    {
     "name": "stdout",
     "output_type": "stream",
     "text": [
      "<class 'pandas.core.frame.DataFrame'>\n",
      "MultiIndex: 8348 entries, (2017-01-03 00:00:00+00:00, Equity(2 [ARNC])) to (2017-01-03 00:00:00+00:00, Equity(50569 [OUSM]))\n",
      "Empty DataFrame"
     ]
    }
   ],
   "source": [
    "result.info()"
   ]
  },
  {
   "cell_type": "markdown",
   "metadata": {},
   "source": [
    "## Factors\n",
    "\n",
    "Factors take in an asset and a timestamp and return some numerical value."
   ]
  },
  {
   "cell_type": "code",
   "execution_count": 68,
   "metadata": {
    "collapsed": true
   },
   "outputs": [],
   "source": [
    "def make_pipeline():\n",
    "    mean_close_30 = SimpleMovingAverage(inputs=[USEquityPricing.close], window_length=30)\n",
    "    mean_close_10 = SimpleMovingAverage(inputs=[USEquityPricing.close], window_length=10)\n",
    "    latest_close = USEquityPricing.close.latest\n",
    "    \n",
    "    percent_difference = (mean_close_10 - mean_close_30) / mean_close_30\n",
    "    \n",
    "    return Pipeline(columns = {\n",
    "        'Percent Diff':percent_difference,\n",
    "        '30 Day Mean Close':mean_close_30,\n",
    "        'Latest Close':latest_close\n",
    "    })"
   ]
  },
  {
   "cell_type": "code",
   "execution_count": 69,
   "metadata": {
    "collapsed": true
   },
   "outputs": [],
   "source": [
    "result = run_pipeline(make_pipeline(), '2017-01-01', '2017-01-01')"
   ]
  },
  {
   "cell_type": "code",
   "execution_count": 70,
   "metadata": {},
   "outputs": [
    {
     "data": {
      "text/html": [
       "<div>\n",
       "<table border=\"1\" class=\"dataframe\">\n",
       "  <thead>\n",
       "    <tr style=\"text-align: right;\">\n",
       "      <th></th>\n",
       "      <th></th>\n",
       "      <th>30 Day Mean Close</th>\n",
       "      <th>Latest Close</th>\n",
       "      <th>Percent Diff</th>\n",
       "    </tr>\n",
       "  </thead>\n",
       "  <tbody>\n",
       "    <tr>\n",
       "      <th rowspan=\"5\" valign=\"top\">2017-01-03 00:00:00+00:00</th>\n",
       "      <th>Equity(2 [ARNC])</th>\n",
       "      <td>20.110500</td>\n",
       "      <td>18.55</td>\n",
       "      <td>-0.022749</td>\n",
       "    </tr>\n",
       "    <tr>\n",
       "      <th>Equity(21 [AAME])</th>\n",
       "      <td>3.899241</td>\n",
       "      <td>4.10</td>\n",
       "      <td>-0.005499</td>\n",
       "    </tr>\n",
       "    <tr>\n",
       "      <th>Equity(24 [AAPL])</th>\n",
       "      <td>113.368433</td>\n",
       "      <td>115.84</td>\n",
       "      <td>0.028481</td>\n",
       "    </tr>\n",
       "    <tr>\n",
       "      <th>Equity(25 [ARNC_PR])</th>\n",
       "      <td>86.796111</td>\n",
       "      <td>NaN</td>\n",
       "      <td>-0.000474</td>\n",
       "    </tr>\n",
       "    <tr>\n",
       "      <th>Equity(31 [ABAX])</th>\n",
       "      <td>52.498394</td>\n",
       "      <td>52.74</td>\n",
       "      <td>-0.007665</td>\n",
       "    </tr>\n",
       "  </tbody>\n",
       "</table>\n",
       "</div>"
      ],
      "text/plain": [
       "                                                30 Day Mean Close  \\\n",
       "2017-01-03 00:00:00+00:00 Equity(2 [ARNC])              20.110500   \n",
       "                          Equity(21 [AAME])              3.899241   \n",
       "                          Equity(24 [AAPL])            113.368433   \n",
       "                          Equity(25 [ARNC_PR])          86.796111   \n",
       "                          Equity(31 [ABAX])             52.498394   \n",
       "\n",
       "                                                Latest Close  Percent Diff  \n",
       "2017-01-03 00:00:00+00:00 Equity(2 [ARNC])             18.55     -0.022749  \n",
       "                          Equity(21 [AAME])             4.10     -0.005499  \n",
       "                          Equity(24 [AAPL])           115.84      0.028481  \n",
       "                          Equity(25 [ARNC_PR])           NaN     -0.000474  \n",
       "                          Equity(31 [ABAX])            52.74     -0.007665  "
      ]
     },
     "execution_count": 70,
     "metadata": {},
     "output_type": "execute_result"
    }
   ],
   "source": [
    "result.head()"
   ]
  },
  {
   "cell_type": "markdown",
   "metadata": {},
   "source": [
    "# Filters and Screens\n",
    "\n",
    "Filters take in an asset and a timestamp and return a boolean"
   ]
  },
  {
   "cell_type": "code",
   "execution_count": 73,
   "metadata": {
    "collapsed": true
   },
   "outputs": [],
   "source": [
    "def make_pipeline():\n",
    "    mean_close_30 = SimpleMovingAverage(inputs=[USEquityPricing.close], window_length=30)\n",
    "    mean_close_10 = SimpleMovingAverage(inputs=[USEquityPricing.close], window_length=10)\n",
    "    latest_close = USEquityPricing.close.latest\n",
    "    \n",
    "    percent_difference = (mean_close_10 - mean_close_30) / mean_close_30\n",
    "    \n",
    "    perc_diff_check = percent_difference > 0\n",
    "    \n",
    "    return Pipeline(columns = {\n",
    "        'Percent Diff':percent_difference,\n",
    "        '30 Day Mean Close':mean_close_30,\n",
    "        'Latest Close':latest_close,\n",
    "        'Positive Percent Diff':perc_diff_check\n",
    "    })"
   ]
  },
  {
   "cell_type": "code",
   "execution_count": 75,
   "metadata": {},
   "outputs": [
    {
     "data": {
      "text/html": [
       "<div>\n",
       "<table border=\"1\" class=\"dataframe\">\n",
       "  <thead>\n",
       "    <tr style=\"text-align: right;\">\n",
       "      <th></th>\n",
       "      <th></th>\n",
       "      <th>30 Day Mean Close</th>\n",
       "      <th>Latest Close</th>\n",
       "      <th>Percent Diff</th>\n",
       "      <th>Positive Percent Diff</th>\n",
       "    </tr>\n",
       "  </thead>\n",
       "  <tbody>\n",
       "    <tr>\n",
       "      <th rowspan=\"5\" valign=\"top\">2017-01-03 00:00:00+00:00</th>\n",
       "      <th>Equity(2 [ARNC])</th>\n",
       "      <td>20.110500</td>\n",
       "      <td>18.55</td>\n",
       "      <td>-0.022749</td>\n",
       "      <td>False</td>\n",
       "    </tr>\n",
       "    <tr>\n",
       "      <th>Equity(21 [AAME])</th>\n",
       "      <td>3.899241</td>\n",
       "      <td>4.10</td>\n",
       "      <td>-0.005499</td>\n",
       "      <td>False</td>\n",
       "    </tr>\n",
       "    <tr>\n",
       "      <th>Equity(24 [AAPL])</th>\n",
       "      <td>113.368433</td>\n",
       "      <td>115.84</td>\n",
       "      <td>0.028481</td>\n",
       "      <td>True</td>\n",
       "    </tr>\n",
       "    <tr>\n",
       "      <th>Equity(25 [ARNC_PR])</th>\n",
       "      <td>86.796111</td>\n",
       "      <td>NaN</td>\n",
       "      <td>-0.000474</td>\n",
       "      <td>False</td>\n",
       "    </tr>\n",
       "    <tr>\n",
       "      <th>Equity(31 [ABAX])</th>\n",
       "      <td>52.498394</td>\n",
       "      <td>52.74</td>\n",
       "      <td>-0.007665</td>\n",
       "      <td>False</td>\n",
       "    </tr>\n",
       "  </tbody>\n",
       "</table>\n",
       "</div>"
      ],
      "text/plain": [
       "                                                30 Day Mean Close  \\\n",
       "2017-01-03 00:00:00+00:00 Equity(2 [ARNC])              20.110500   \n",
       "                          Equity(21 [AAME])              3.899241   \n",
       "                          Equity(24 [AAPL])            113.368433   \n",
       "                          Equity(25 [ARNC_PR])          86.796111   \n",
       "                          Equity(31 [ABAX])             52.498394   \n",
       "\n",
       "                                                Latest Close  Percent Diff  \\\n",
       "2017-01-03 00:00:00+00:00 Equity(2 [ARNC])             18.55     -0.022749   \n",
       "                          Equity(21 [AAME])             4.10     -0.005499   \n",
       "                          Equity(24 [AAPL])           115.84      0.028481   \n",
       "                          Equity(25 [ARNC_PR])           NaN     -0.000474   \n",
       "                          Equity(31 [ABAX])            52.74     -0.007665   \n",
       "\n",
       "                                               Positive Percent Diff  \n",
       "2017-01-03 00:00:00+00:00 Equity(2 [ARNC])                     False  \n",
       "                          Equity(21 [AAME])                    False  \n",
       "                          Equity(24 [AAPL])                     True  \n",
       "                          Equity(25 [ARNC_PR])                 False  \n",
       "                          Equity(31 [ABAX])                    False  "
      ]
     },
     "execution_count": 75,
     "metadata": {},
     "output_type": "execute_result"
    }
   ],
   "source": [
    "result = run_pipeline(make_pipeline(), '2017-01-01', '2017-01-01')\n",
    "result.head()"
   ]
  },
  {
   "cell_type": "code",
   "execution_count": 76,
   "metadata": {
    "collapsed": true
   },
   "outputs": [],
   "source": [
    "def make_pipeline():\n",
    "    mean_close_30 = SimpleMovingAverage(inputs=[USEquityPricing.close], window_length=30)\n",
    "    mean_close_10 = SimpleMovingAverage(inputs=[USEquityPricing.close], window_length=10)\n",
    "    latest_close = USEquityPricing.close.latest\n",
    "    \n",
    "    percent_difference = (mean_close_10 - mean_close_30) / mean_close_30\n",
    "    \n",
    "    perc_diff_check = percent_difference > 0\n",
    "    \n",
    "    return Pipeline(columns = {\n",
    "        'Percent Diff':percent_difference,\n",
    "        '30 Day Mean Close':mean_close_30,\n",
    "        'Latest Close':latest_close,\n",
    "        'Positive Percent Diff':perc_diff_check\n",
    "    }, screen=perc_diff_check)"
   ]
  },
  {
   "cell_type": "code",
   "execution_count": 77,
   "metadata": {},
   "outputs": [
    {
     "data": {
      "text/html": [
       "<div>\n",
       "<table border=\"1\" class=\"dataframe\">\n",
       "  <thead>\n",
       "    <tr style=\"text-align: right;\">\n",
       "      <th></th>\n",
       "      <th></th>\n",
       "      <th>30 Day Mean Close</th>\n",
       "      <th>Latest Close</th>\n",
       "      <th>Percent Diff</th>\n",
       "      <th>Positive Percent Diff</th>\n",
       "    </tr>\n",
       "  </thead>\n",
       "  <tbody>\n",
       "    <tr>\n",
       "      <th rowspan=\"5\" valign=\"top\">2017-01-03 00:00:00+00:00</th>\n",
       "      <th>Equity(24 [AAPL])</th>\n",
       "      <td>113.368433</td>\n",
       "      <td>115.84</td>\n",
       "      <td>0.028481</td>\n",
       "      <td>True</td>\n",
       "    </tr>\n",
       "    <tr>\n",
       "      <th>Equity(66 [AB])</th>\n",
       "      <td>23.119167</td>\n",
       "      <td>23.45</td>\n",
       "      <td>0.004578</td>\n",
       "      <td>True</td>\n",
       "    </tr>\n",
       "    <tr>\n",
       "      <th>Equity(69 [ACAT])</th>\n",
       "      <td>15.839500</td>\n",
       "      <td>15.02</td>\n",
       "      <td>0.009375</td>\n",
       "      <td>True</td>\n",
       "    </tr>\n",
       "    <tr>\n",
       "      <th>Equity(70 [VBF])</th>\n",
       "      <td>18.208480</td>\n",
       "      <td>18.49</td>\n",
       "      <td>0.011814</td>\n",
       "      <td>True</td>\n",
       "    </tr>\n",
       "    <tr>\n",
       "      <th>Equity(84 [ACET])</th>\n",
       "      <td>20.722753</td>\n",
       "      <td>21.97</td>\n",
       "      <td>0.039630</td>\n",
       "      <td>True</td>\n",
       "    </tr>\n",
       "  </tbody>\n",
       "</table>\n",
       "</div>"
      ],
      "text/plain": [
       "                                             30 Day Mean Close  Latest Close  \\\n",
       "2017-01-03 00:00:00+00:00 Equity(24 [AAPL])         113.368433        115.84   \n",
       "                          Equity(66 [AB])            23.119167         23.45   \n",
       "                          Equity(69 [ACAT])          15.839500         15.02   \n",
       "                          Equity(70 [VBF])           18.208480         18.49   \n",
       "                          Equity(84 [ACET])          20.722753         21.97   \n",
       "\n",
       "                                             Percent Diff  \\\n",
       "2017-01-03 00:00:00+00:00 Equity(24 [AAPL])      0.028481   \n",
       "                          Equity(66 [AB])        0.004578   \n",
       "                          Equity(69 [ACAT])      0.009375   \n",
       "                          Equity(70 [VBF])       0.011814   \n",
       "                          Equity(84 [ACET])      0.039630   \n",
       "\n",
       "                                            Positive Percent Diff  \n",
       "2017-01-03 00:00:00+00:00 Equity(24 [AAPL])                  True  \n",
       "                          Equity(66 [AB])                    True  \n",
       "                          Equity(69 [ACAT])                  True  \n",
       "                          Equity(70 [VBF])                   True  \n",
       "                          Equity(84 [ACET])                  True  "
      ]
     },
     "execution_count": 77,
     "metadata": {},
     "output_type": "execute_result"
    }
   ],
   "source": [
    "result = run_pipeline(make_pipeline(), '2017-01-01', '2017-01-01')\n",
    "result.head()"
   ]
  },
  {
   "cell_type": "markdown",
   "metadata": {},
   "source": [
    "### Reverse a screen"
   ]
  },
  {
   "cell_type": "code",
   "execution_count": 79,
   "metadata": {
    "collapsed": true
   },
   "outputs": [],
   "source": [
    "def make_pipeline():\n",
    "    mean_close_30 = SimpleMovingAverage(inputs=[USEquityPricing.close], window_length=30)\n",
    "    mean_close_10 = SimpleMovingAverage(inputs=[USEquityPricing.close], window_length=10)\n",
    "    latest_close = USEquityPricing.close.latest\n",
    "    \n",
    "    percent_difference = (mean_close_10 - mean_close_30) / mean_close_30\n",
    "    \n",
    "    perc_diff_check = percent_difference > 0\n",
    "    \n",
    "    return Pipeline(columns = {\n",
    "        'Percent Diff':percent_difference,\n",
    "        '30 Day Mean Close':mean_close_30,\n",
    "        'Latest Close':latest_close,\n",
    "        'Positive Percent Diff':perc_diff_check\n",
    "    }, screen=~perc_diff_check)"
   ]
  },
  {
   "cell_type": "code",
   "execution_count": 80,
   "metadata": {},
   "outputs": [
    {
     "data": {
      "text/html": [
       "<div>\n",
       "<table border=\"1\" class=\"dataframe\">\n",
       "  <thead>\n",
       "    <tr style=\"text-align: right;\">\n",
       "      <th></th>\n",
       "      <th></th>\n",
       "      <th>30 Day Mean Close</th>\n",
       "      <th>Latest Close</th>\n",
       "      <th>Percent Diff</th>\n",
       "      <th>Positive Percent Diff</th>\n",
       "    </tr>\n",
       "  </thead>\n",
       "  <tbody>\n",
       "    <tr>\n",
       "      <th rowspan=\"5\" valign=\"top\">2017-01-03 00:00:00+00:00</th>\n",
       "      <th>Equity(2 [ARNC])</th>\n",
       "      <td>20.110500</td>\n",
       "      <td>18.55</td>\n",
       "      <td>-0.022749</td>\n",
       "      <td>False</td>\n",
       "    </tr>\n",
       "    <tr>\n",
       "      <th>Equity(21 [AAME])</th>\n",
       "      <td>3.899241</td>\n",
       "      <td>4.10</td>\n",
       "      <td>-0.005499</td>\n",
       "      <td>False</td>\n",
       "    </tr>\n",
       "    <tr>\n",
       "      <th>Equity(25 [ARNC_PR])</th>\n",
       "      <td>86.796111</td>\n",
       "      <td>NaN</td>\n",
       "      <td>-0.000474</td>\n",
       "      <td>False</td>\n",
       "    </tr>\n",
       "    <tr>\n",
       "      <th>Equity(31 [ABAX])</th>\n",
       "      <td>52.498394</td>\n",
       "      <td>52.74</td>\n",
       "      <td>-0.007665</td>\n",
       "      <td>False</td>\n",
       "    </tr>\n",
       "    <tr>\n",
       "      <th>Equity(39 [DDC])</th>\n",
       "      <td>9.523000</td>\n",
       "      <td>9.69</td>\n",
       "      <td>-0.015436</td>\n",
       "      <td>False</td>\n",
       "    </tr>\n",
       "  </tbody>\n",
       "</table>\n",
       "</div>"
      ],
      "text/plain": [
       "                                                30 Day Mean Close  \\\n",
       "2017-01-03 00:00:00+00:00 Equity(2 [ARNC])              20.110500   \n",
       "                          Equity(21 [AAME])              3.899241   \n",
       "                          Equity(25 [ARNC_PR])          86.796111   \n",
       "                          Equity(31 [ABAX])             52.498394   \n",
       "                          Equity(39 [DDC])               9.523000   \n",
       "\n",
       "                                                Latest Close  Percent Diff  \\\n",
       "2017-01-03 00:00:00+00:00 Equity(2 [ARNC])             18.55     -0.022749   \n",
       "                          Equity(21 [AAME])             4.10     -0.005499   \n",
       "                          Equity(25 [ARNC_PR])           NaN     -0.000474   \n",
       "                          Equity(31 [ABAX])            52.74     -0.007665   \n",
       "                          Equity(39 [DDC])              9.69     -0.015436   \n",
       "\n",
       "                                               Positive Percent Diff  \n",
       "2017-01-03 00:00:00+00:00 Equity(2 [ARNC])                     False  \n",
       "                          Equity(21 [AAME])                    False  \n",
       "                          Equity(25 [ARNC_PR])                 False  \n",
       "                          Equity(31 [ABAX])                    False  \n",
       "                          Equity(39 [DDC])                     False  "
      ]
     },
     "execution_count": 80,
     "metadata": {},
     "output_type": "execute_result"
    }
   ],
   "source": [
    "result = run_pipeline(make_pipeline(), '2017-01-01', '2017-01-01')\n",
    "result.head()"
   ]
  },
  {
   "cell_type": "markdown",
   "metadata": {},
   "source": [
    "## Combine Filters"
   ]
  },
  {
   "cell_type": "code",
   "execution_count": 83,
   "metadata": {
    "collapsed": true
   },
   "outputs": [],
   "source": [
    "def make_pipeline():\n",
    "    mean_close_30 = SimpleMovingAverage(inputs=[USEquityPricing.close], window_length=30)\n",
    "    mean_close_10 = SimpleMovingAverage(inputs=[USEquityPricing.close], window_length=10)\n",
    "    latest_close = USEquityPricing.close.latest\n",
    "    \n",
    "    percent_difference = (mean_close_10 - mean_close_30) / mean_close_30\n",
    "    \n",
    "    perc_diff_check = percent_difference > 0\n",
    "    small_price = latest_close < 5\n",
    "    final_filter = perc_diff_check & small_price\n",
    "    \n",
    "    return Pipeline(columns = {\n",
    "        'Percent Diff':percent_difference,\n",
    "        '30 Day Mean Close':mean_close_30,\n",
    "        'Latest Close':latest_close,\n",
    "        'Positive Percent Diff':perc_diff_check\n",
    "    }, screen=final_filter)"
   ]
  },
  {
   "cell_type": "code",
   "execution_count": 84,
   "metadata": {},
   "outputs": [
    {
     "data": {
      "text/html": [
       "<div>\n",
       "<table border=\"1\" class=\"dataframe\">\n",
       "  <thead>\n",
       "    <tr style=\"text-align: right;\">\n",
       "      <th></th>\n",
       "      <th></th>\n",
       "      <th>30 Day Mean Close</th>\n",
       "      <th>Latest Close</th>\n",
       "      <th>Percent Diff</th>\n",
       "      <th>Positive Percent Diff</th>\n",
       "    </tr>\n",
       "  </thead>\n",
       "  <tbody>\n",
       "    <tr>\n",
       "      <th rowspan=\"5\" valign=\"top\">2017-01-03 00:00:00+00:00</th>\n",
       "      <th>Equity(535 [ARTW])</th>\n",
       "      <td>3.097778</td>\n",
       "      <td>3.40</td>\n",
       "      <td>0.013271</td>\n",
       "      <td>True</td>\n",
       "    </tr>\n",
       "    <tr>\n",
       "      <th>Equity(677 [AXAS])</th>\n",
       "      <td>2.265333</td>\n",
       "      <td>2.56</td>\n",
       "      <td>0.145527</td>\n",
       "      <td>True</td>\n",
       "    </tr>\n",
       "    <tr>\n",
       "      <th>Equity(1144 [BTX])</th>\n",
       "      <td>3.531167</td>\n",
       "      <td>3.62</td>\n",
       "      <td>0.065795</td>\n",
       "      <td>True</td>\n",
       "    </tr>\n",
       "    <tr>\n",
       "      <th>Equity(1323 [CAW])</th>\n",
       "      <td>2.541333</td>\n",
       "      <td>2.60</td>\n",
       "      <td>0.016002</td>\n",
       "      <td>True</td>\n",
       "    </tr>\n",
       "    <tr>\n",
       "      <th>Equity(1546 [CIF])</th>\n",
       "      <td>2.500370</td>\n",
       "      <td>2.57</td>\n",
       "      <td>0.015579</td>\n",
       "      <td>True</td>\n",
       "    </tr>\n",
       "  </tbody>\n",
       "</table>\n",
       "</div>"
      ],
      "text/plain": [
       "                                              30 Day Mean Close  Latest Close  \\\n",
       "2017-01-03 00:00:00+00:00 Equity(535 [ARTW])           3.097778          3.40   \n",
       "                          Equity(677 [AXAS])           2.265333          2.56   \n",
       "                          Equity(1144 [BTX])           3.531167          3.62   \n",
       "                          Equity(1323 [CAW])           2.541333          2.60   \n",
       "                          Equity(1546 [CIF])           2.500370          2.57   \n",
       "\n",
       "                                              Percent Diff  \\\n",
       "2017-01-03 00:00:00+00:00 Equity(535 [ARTW])      0.013271   \n",
       "                          Equity(677 [AXAS])      0.145527   \n",
       "                          Equity(1144 [BTX])      0.065795   \n",
       "                          Equity(1323 [CAW])      0.016002   \n",
       "                          Equity(1546 [CIF])      0.015579   \n",
       "\n",
       "                                             Positive Percent Diff  \n",
       "2017-01-03 00:00:00+00:00 Equity(535 [ARTW])                  True  \n",
       "                          Equity(677 [AXAS])                  True  \n",
       "                          Equity(1144 [BTX])                  True  \n",
       "                          Equity(1323 [CAW])                  True  \n",
       "                          Equity(1546 [CIF])                  True  "
      ]
     },
     "execution_count": 84,
     "metadata": {},
     "output_type": "execute_result"
    }
   ],
   "source": [
    "result = run_pipeline(make_pipeline(), '2017-01-01', '2017-01-01')\n",
    "result.head()"
   ]
  },
  {
   "cell_type": "markdown",
   "metadata": {},
   "source": [
    "# Masking\n",
    "\n",
    "To ignore certain assets when computing pipeline expresssions. There are two common cases where ignoring assets is useful:\n",
    "* To compute an expression that's computationally expensive, and we only care about certain assets.\n",
    "* To compute an expression that performs comparisons between assets, but we only want those comparisons, not assets. "
   ]
  },
  {
   "cell_type": "code",
   "execution_count": 85,
   "metadata": {
    "collapsed": true
   },
   "outputs": [],
   "source": [
    "def make_pipeline():\n",
    "    latest_close = USEquityPricing.close.latest\n",
    "    small_price = latest_close < 5\n",
    "    \n",
    "    mean_close_30 = SimpleMovingAverage(inputs=[USEquityPricing.close], window_length=30, mask=small_price)\n",
    "    mean_close_10 = SimpleMovingAverage(inputs=[USEquityPricing.close], window_length=10, mask=small_price)\n",
    "    \n",
    "    percent_difference = (mean_close_10 - mean_close_30) / mean_close_30\n",
    "    \n",
    "    perc_diff_check = percent_difference > 0\n",
    "    final_filter = perc_diff_check & small_price\n",
    "    \n",
    "    return Pipeline(columns = {\n",
    "        'Percent Diff':percent_difference,\n",
    "        '30 Day Mean Close':mean_close_30,\n",
    "        'Latest Close':latest_close,\n",
    "        'Positive Percent Diff':perc_diff_check\n",
    "    }, screen=final_filter)"
   ]
  },
  {
   "cell_type": "code",
   "execution_count": 86,
   "metadata": {},
   "outputs": [
    {
     "data": {
      "text/html": [
       "<div>\n",
       "<table border=\"1\" class=\"dataframe\">\n",
       "  <thead>\n",
       "    <tr style=\"text-align: right;\">\n",
       "      <th></th>\n",
       "      <th></th>\n",
       "      <th>30 Day Mean Close</th>\n",
       "      <th>Latest Close</th>\n",
       "      <th>Percent Diff</th>\n",
       "      <th>Positive Percent Diff</th>\n",
       "    </tr>\n",
       "  </thead>\n",
       "  <tbody>\n",
       "    <tr>\n",
       "      <th rowspan=\"5\" valign=\"top\">2017-01-03 00:00:00+00:00</th>\n",
       "      <th>Equity(535 [ARTW])</th>\n",
       "      <td>3.097778</td>\n",
       "      <td>3.40</td>\n",
       "      <td>0.013271</td>\n",
       "      <td>True</td>\n",
       "    </tr>\n",
       "    <tr>\n",
       "      <th>Equity(677 [AXAS])</th>\n",
       "      <td>2.265333</td>\n",
       "      <td>2.56</td>\n",
       "      <td>0.145527</td>\n",
       "      <td>True</td>\n",
       "    </tr>\n",
       "    <tr>\n",
       "      <th>Equity(1144 [BTX])</th>\n",
       "      <td>3.531167</td>\n",
       "      <td>3.62</td>\n",
       "      <td>0.065795</td>\n",
       "      <td>True</td>\n",
       "    </tr>\n",
       "    <tr>\n",
       "      <th>Equity(1323 [CAW])</th>\n",
       "      <td>2.541333</td>\n",
       "      <td>2.60</td>\n",
       "      <td>0.016002</td>\n",
       "      <td>True</td>\n",
       "    </tr>\n",
       "    <tr>\n",
       "      <th>Equity(1546 [CIF])</th>\n",
       "      <td>2.500370</td>\n",
       "      <td>2.57</td>\n",
       "      <td>0.015579</td>\n",
       "      <td>True</td>\n",
       "    </tr>\n",
       "  </tbody>\n",
       "</table>\n",
       "</div>"
      ],
      "text/plain": [
       "                                              30 Day Mean Close  Latest Close  \\\n",
       "2017-01-03 00:00:00+00:00 Equity(535 [ARTW])           3.097778          3.40   \n",
       "                          Equity(677 [AXAS])           2.265333          2.56   \n",
       "                          Equity(1144 [BTX])           3.531167          3.62   \n",
       "                          Equity(1323 [CAW])           2.541333          2.60   \n",
       "                          Equity(1546 [CIF])           2.500370          2.57   \n",
       "\n",
       "                                              Percent Diff  \\\n",
       "2017-01-03 00:00:00+00:00 Equity(535 [ARTW])      0.013271   \n",
       "                          Equity(677 [AXAS])      0.145527   \n",
       "                          Equity(1144 [BTX])      0.065795   \n",
       "                          Equity(1323 [CAW])      0.016002   \n",
       "                          Equity(1546 [CIF])      0.015579   \n",
       "\n",
       "                                             Positive Percent Diff  \n",
       "2017-01-03 00:00:00+00:00 Equity(535 [ARTW])                  True  \n",
       "                          Equity(677 [AXAS])                  True  \n",
       "                          Equity(1144 [BTX])                  True  \n",
       "                          Equity(1323 [CAW])                  True  \n",
       "                          Equity(1546 [CIF])                  True  "
      ]
     },
     "execution_count": 86,
     "metadata": {},
     "output_type": "execute_result"
    }
   ],
   "source": [
    "result = run_pipeline(make_pipeline(), '2017-01-01', '2017-01-01')\n",
    "result.head()"
   ]
  },
  {
   "cell_type": "markdown",
   "metadata": {},
   "source": [
    "# Classifiers\n",
    "### Classifier Methods\n",
    "\n",
    "* eq (equals)\n",
    "* isnull\n",
    "* startswith"
   ]
  },
  {
   "cell_type": "code",
   "execution_count": 87,
   "metadata": {},
   "outputs": [
    {
     "data": {
      "text/plain": [
       "Latest([share_class_reference.exchange_id], 1)"
      ]
     },
     "execution_count": 87,
     "metadata": {},
     "output_type": "execute_result"
    }
   ],
   "source": [
    "exchange = morningstar.share_class_reference.exchange_id.latest\n",
    "exchange"
   ]
  },
  {
   "cell_type": "code",
   "execution_count": 89,
   "metadata": {},
   "outputs": [
    {
     "data": {
      "text/plain": [
       "ArrayPredicate([Latest(...)], 0)"
      ]
     },
     "execution_count": 89,
     "metadata": {},
     "output_type": "execute_result"
    }
   ],
   "source": [
    "nyse_filter = exchange.eq('NYS')\n",
    "nyse_filter"
   ]
  },
  {
   "cell_type": "code",
   "execution_count": 90,
   "metadata": {
    "collapsed": true
   },
   "outputs": [],
   "source": [
    "def make_pipeline():\n",
    "    latest_close = USEquityPricing.close.latest\n",
    "    small_price = latest_close < 5\n",
    "    \n",
    "    nyse_filter = exchange.eq('NYS')\n",
    "    \n",
    "    mean_close_30 = SimpleMovingAverage(inputs=[USEquityPricing.close], window_length=30, mask=small_price)\n",
    "    mean_close_10 = SimpleMovingAverage(inputs=[USEquityPricing.close], window_length=10, mask=small_price)\n",
    "    \n",
    "    percent_difference = (mean_close_10 - mean_close_30) / mean_close_30\n",
    "    \n",
    "    perc_diff_check = percent_difference > 0\n",
    "    final_filter = perc_diff_check & nyse_filter\n",
    "    \n",
    "    return Pipeline(columns = {\n",
    "        'Percent Diff':percent_difference,\n",
    "        '30 Day Mean Close':mean_close_30,\n",
    "        'Latest Close':latest_close,\n",
    "        'Positive Percent Diff':perc_diff_check\n",
    "    }, screen=final_filter)"
   ]
  },
  {
   "cell_type": "code",
   "execution_count": 91,
   "metadata": {},
   "outputs": [
    {
     "data": {
      "text/html": [
       "<div>\n",
       "<table border=\"1\" class=\"dataframe\">\n",
       "  <thead>\n",
       "    <tr style=\"text-align: right;\">\n",
       "      <th></th>\n",
       "      <th></th>\n",
       "      <th>30 Day Mean Close</th>\n",
       "      <th>Latest Close</th>\n",
       "      <th>Percent Diff</th>\n",
       "      <th>Positive Percent Diff</th>\n",
       "    </tr>\n",
       "  </thead>\n",
       "  <tbody>\n",
       "    <tr>\n",
       "      <th rowspan=\"5\" valign=\"top\">2017-01-03 00:00:00+00:00</th>\n",
       "      <th>Equity(2586 [EQS])</th>\n",
       "      <td>1.960533</td>\n",
       "      <td>2.020</td>\n",
       "      <td>0.022120</td>\n",
       "      <td>True</td>\n",
       "    </tr>\n",
       "    <tr>\n",
       "      <th>Equity(3265 [GLF])</th>\n",
       "      <td>1.576367</td>\n",
       "      <td>1.725</td>\n",
       "      <td>0.162420</td>\n",
       "      <td>True</td>\n",
       "    </tr>\n",
       "    <tr>\n",
       "      <th>Equity(3645 [HOV])</th>\n",
       "      <td>2.406667</td>\n",
       "      <td>2.735</td>\n",
       "      <td>0.176939</td>\n",
       "      <td>True</td>\n",
       "    </tr>\n",
       "    <tr>\n",
       "      <th>Equity(4577 [LUB])</th>\n",
       "      <td>4.292333</td>\n",
       "      <td>4.270</td>\n",
       "      <td>0.004116</td>\n",
       "      <td>True</td>\n",
       "    </tr>\n",
       "    <tr>\n",
       "      <th>Equity(4971 [RT])</th>\n",
       "      <td>3.244000</td>\n",
       "      <td>3.240</td>\n",
       "      <td>0.009094</td>\n",
       "      <td>True</td>\n",
       "    </tr>\n",
       "  </tbody>\n",
       "</table>\n",
       "</div>"
      ],
      "text/plain": [
       "                                              30 Day Mean Close  Latest Close  \\\n",
       "2017-01-03 00:00:00+00:00 Equity(2586 [EQS])           1.960533         2.020   \n",
       "                          Equity(3265 [GLF])           1.576367         1.725   \n",
       "                          Equity(3645 [HOV])           2.406667         2.735   \n",
       "                          Equity(4577 [LUB])           4.292333         4.270   \n",
       "                          Equity(4971 [RT])            3.244000         3.240   \n",
       "\n",
       "                                              Percent Diff  \\\n",
       "2017-01-03 00:00:00+00:00 Equity(2586 [EQS])      0.022120   \n",
       "                          Equity(3265 [GLF])      0.162420   \n",
       "                          Equity(3645 [HOV])      0.176939   \n",
       "                          Equity(4577 [LUB])      0.004116   \n",
       "                          Equity(4971 [RT])       0.009094   \n",
       "\n",
       "                                             Positive Percent Diff  \n",
       "2017-01-03 00:00:00+00:00 Equity(2586 [EQS])                  True  \n",
       "                          Equity(3265 [GLF])                  True  \n",
       "                          Equity(3645 [HOV])                  True  \n",
       "                          Equity(4577 [LUB])                  True  \n",
       "                          Equity(4971 [RT])                   True  "
      ]
     },
     "execution_count": 91,
     "metadata": {},
     "output_type": "execute_result"
    }
   ],
   "source": [
    "result = run_pipeline(make_pipeline(), '2017-01-01', '2017-01-01')\n",
    "result.head()"
   ]
  },
  {
   "cell_type": "code",
   "execution_count": 92,
   "metadata": {},
   "outputs": [
    {
     "data": {
      "text/plain": [
       "66"
      ]
     },
     "execution_count": 92,
     "metadata": {},
     "output_type": "execute_result"
    }
   ],
   "source": [
    "len(result)"
   ]
  },
  {
   "cell_type": "code",
   "execution_count": null,
   "metadata": {
    "collapsed": true
   },
   "outputs": [],
   "source": []
  },
  {
   "cell_type": "markdown",
   "metadata": {},
   "source": [
    "____\n",
    "# Pairs Traiding Algorithm"
   ]
  },
  {
   "cell_type": "code",
   "execution_count": 17,
   "metadata": {
    "collapsed": true
   },
   "outputs": [],
   "source": [
    "start = '2015-01-01'\n",
    "end = '2017-01-01'\n",
    "united = get_pricing('UAL', start_date=start, end_date=end)\n",
    "american = get_pricing('AAL', start_date=start, end_date=end)"
   ]
  },
  {
   "cell_type": "code",
   "execution_count": 20,
   "metadata": {},
   "outputs": [
    {
     "data": {
      "text/html": [
       "<div>\n",
       "<table border=\"1\" class=\"dataframe\">\n",
       "  <thead>\n",
       "    <tr style=\"text-align: right;\">\n",
       "      <th></th>\n",
       "      <th>open_price</th>\n",
       "      <th>high</th>\n",
       "      <th>low</th>\n",
       "      <th>close_price</th>\n",
       "      <th>volume</th>\n",
       "      <th>price</th>\n",
       "    </tr>\n",
       "  </thead>\n",
       "  <tbody>\n",
       "    <tr>\n",
       "      <th>2015-01-02 00:00:00+00:00</th>\n",
       "      <td>53.222</td>\n",
       "      <td>53.536</td>\n",
       "      <td>52.036</td>\n",
       "      <td>52.859</td>\n",
       "      <td>9507330.0</td>\n",
       "      <td>52.859</td>\n",
       "    </tr>\n",
       "    <tr>\n",
       "      <th>2015-01-05 00:00:00+00:00</th>\n",
       "      <td>53.310</td>\n",
       "      <td>53.477</td>\n",
       "      <td>52.301</td>\n",
       "      <td>52.830</td>\n",
       "      <td>10401276.0</td>\n",
       "      <td>52.830</td>\n",
       "    </tr>\n",
       "    <tr>\n",
       "      <th>2015-01-06 00:00:00+00:00</th>\n",
       "      <td>53.212</td>\n",
       "      <td>53.369</td>\n",
       "      <td>51.114</td>\n",
       "      <td>52.006</td>\n",
       "      <td>12491282.0</td>\n",
       "      <td>52.006</td>\n",
       "    </tr>\n",
       "  </tbody>\n",
       "</table>\n",
       "</div>"
      ],
      "text/plain": [
       "                           open_price    high     low  close_price  \\\n",
       "2015-01-02 00:00:00+00:00      53.222  53.536  52.036       52.859   \n",
       "2015-01-05 00:00:00+00:00      53.310  53.477  52.301       52.830   \n",
       "2015-01-06 00:00:00+00:00      53.212  53.369  51.114       52.006   \n",
       "\n",
       "                               volume   price  \n",
       "2015-01-02 00:00:00+00:00   9507330.0  52.859  \n",
       "2015-01-05 00:00:00+00:00  10401276.0  52.830  \n",
       "2015-01-06 00:00:00+00:00  12491282.0  52.006  "
      ]
     },
     "execution_count": 20,
     "metadata": {},
     "output_type": "execute_result"
    }
   ],
   "source": [
    "american.head(3)"
   ]
  },
  {
   "cell_type": "code",
   "execution_count": 24,
   "metadata": {},
   "outputs": [
    {
     "data": {
      "image/png": "[encoded data removed]",
      "text/plain": [
       "<matplotlib.figure.Figure at 0x7f53b6fbfcd0>"
      ]
     },
     "metadata": {},
     "output_type": "display_data"
    }
   ],
   "source": [
    "american['close_price'].plot(label='AAL',figsize=(7,5))\n",
    "united['close_price'].plot(label='UAL')\n",
    "plt.legend();"
   ]
  },
  {
   "cell_type": "markdown",
   "metadata": {},
   "source": [
    "## Correlation, using np.corrcoef ##"
   ]
  },
  {
   "cell_type": "code",
   "execution_count": 25,
   "metadata": {},
   "outputs": [
    {
     "data": {
      "text/plain": [
       "array([[ 1.        ,  0.92333958],\n",
       "       [ 0.92333958,  1.        ]])"
      ]
     },
     "execution_count": 25,
     "metadata": {},
     "output_type": "execute_result"
    }
   ],
   "source": [
    "np.corrcoef(american['close_price'], united['close_price'])"
   ]
  },
  {
   "cell_type": "markdown",
   "metadata": {},
   "source": [
    "## Varify pandas covariance data for Correlation calculation: good agreement ##"
   ]
  },
  {
   "cell_type": "code",
   "execution_count": 34,
   "metadata": {},
   "outputs": [
    {
     "name": "stdout",
     "output_type": "stream",
     "text": [
      "           aa         ua\n",
      "aa  32.546323  42.224625\n",
      "ua  42.224625  64.254976\n"
     ]
    }
   ],
   "source": [
    "close_df = pd.concat([american['close_price'], united['close_price']], axis=1)\n",
    "close_df.columns = ['aa','ua']\n",
    "covar = close_df.cov()\n",
    "print(covar)"
   ]
  },
  {
   "cell_type": "code",
   "execution_count": 41,
   "metadata": {},
   "outputs": [
    {
     "data": {
      "text/plain": [
       "0.92333958351350753"
      ]
     },
     "execution_count": 41,
     "metadata": {},
     "output_type": "execute_result"
    }
   ],
   "source": [
    "covar.loc['ua','aa']/np.sqrt(covar.loc['aa','aa']*covar.loc['ua','ua'])"
   ]
  },
  {
   "cell_type": "markdown",
   "metadata": {},
   "source": [
    "# Spread, and it's z-score #\n",
    "z-score = (X - X.mean())/X.std() , in finace statistics"
   ]
  },
  {
   "cell_type": "code",
   "execution_count": 42,
   "metadata": {
    "collapsed": true
   },
   "outputs": [],
   "source": [
    "spread = american['close_price'] - united['close_price']"
   ]
  },
  {
   "cell_type": "code",
   "execution_count": 43,
   "metadata": {
    "collapsed": true
   },
   "outputs": [],
   "source": [
    "def zscore(spread):\n",
    "    return (spread - spread.mean())/spread.std()"
   ]
  },
  {
   "cell_type": "code",
   "execution_count": 45,
   "metadata": {},
   "outputs": [
    {
     "data": {
      "text/plain": [
       "<matplotlib.lines.Line2D at 0x7f53ce511f50>"
      ]
     },
     "execution_count": 45,
     "metadata": {},
     "output_type": "execute_result"
    },
    {
     "data": {
      "image/png": "[encoded data removed]",
      "text/plain": [
       "<matplotlib.figure.Figure at 0x7f53ce528a90>"
      ]
     },
     "metadata": {},
     "output_type": "display_data"
    }
   ],
   "source": [
    "zscore(spread).plot(figsize = (7,5))\n",
    "plt.axhline(zscore(spread).mean(), c='k')\n",
    "plt.axhline(1, c='g')\n",
    "plt.axhline(-1, c='r')"
   ]
  },
  {
   "cell_type": "markdown",
   "metadata": {},
   "source": [
    "# 30 day rolling average spread #"
   ]
  },
  {
   "cell_type": "code",
   "execution_count": 46,
   "metadata": {},
   "outputs": [
    {
     "data": {
      "text/plain": [
       "2015-01-02 00:00:00+00:00   -13.521\n",
       "2015-01-05 00:00:00+00:00   -13.310\n",
       "2015-01-06 00:00:00+00:00   -12.593\n",
       "Freq: C, Name: close_price, dtype: float64"
      ]
     },
     "execution_count": 46,
     "metadata": {},
     "output_type": "execute_result"
    }
   ],
   "source": [
    "spread.head(3)"
   ]
  },
  {
   "cell_type": "code",
   "execution_count": 48,
   "metadata": {},
   "outputs": [
    {
     "data": {
      "text/plain": [
       "2015-01-02 00:00:00+00:00   -13.521\n",
       "2015-01-05 00:00:00+00:00   -13.310\n",
       "2015-01-06 00:00:00+00:00   -12.593\n",
       "Freq: C, Name: close_price, dtype: float64"
      ]
     },
     "execution_count": 48,
     "metadata": {},
     "output_type": "execute_result"
    }
   ],
   "source": [
    "spread_1 = spread.rolling(1).mean()\n",
    "spread_1.head(3)"
   ]
  },
  {
   "cell_type": "markdown",
   "metadata": {},
   "source": [
    "### Verified that rolling(1) does nothing ! ###"
   ]
  },
  {
   "cell_type": "code",
   "execution_count": 49,
   "metadata": {
    "collapsed": true
   },
   "outputs": [],
   "source": [
    "spread_30 = spread.rolling(30).mean()\n",
    "spread_30_std = spread.rolling(30).std()   # std of this 30 data\n",
    "zscore_30 = (spread - spread_30)/spread_30_std"
   ]
  },
  {
   "cell_type": "code",
   "execution_count": 51,
   "metadata": {},
   "outputs": [
    {
     "data": {
      "text/plain": [
       "<matplotlib.lines.Line2D at 0x7f53b6e5a190>"
      ]
     },
     "execution_count": 51,
     "metadata": {},
     "output_type": "execute_result"
    },
    {
     "data": {
      "image/png": "[encoded data removed]",
      "text/plain": [
       "<matplotlib.figure.Figure at 0x7f53b6631950>"
      ]
     },
     "metadata": {},
     "output_type": "display_data"
    }
   ],
   "source": [
    "zscore_30.plot(figsize=(7,5))\n",
    "plt.axhline(0, c='k')\n",
    "plt.axhline(1, c='r')"
   ]
  },
  {
   "cell_type": "markdown",
   "metadata": {},
   "source": [
    "# Backtesting the algorithm on Quantopian"
   ]
  },
  {
   "cell_type": "code",
   "execution_count": null,
   "metadata": {
    "collapsed": true
   },
   "outputs": [],
   "source": [
    "# This code should only run on quantopian \"algorithm window\"\n",
    "import numpy as np\n",
    "\n",
    "def initialize(context):   \n",
    "    schedule_function(check_pairs, date_rules.every_day(), time_rules().market_close(minutes=60))\n",
    "    \n",
    "    context.aa = sid(45971)\n",
    "    context.ual = sid(28051)\n",
    "    \n",
    "    context.long_on_spread = False\n",
    "    context.shorting_spread = False\n",
    "    \n",
    "def check_pairs(context, data):\n",
    "    \n",
    "    aa = context.aa\n",
    "    ual = context.ual\n",
    "    \n",
    "    prices = data.history([aa,ual], 'price', 30, '1d')\n",
    "    \n",
    "    short_prices = prices.iloc[-1:]  # last row: current aa ual data\n",
    "    mavg_30 = np.mean(prices[aa]-prices[ual])\n",
    "    std_30 = np.std(prices[aa] - prices[ual])\n",
    "    \n",
    "    mavg_1 = np.mean(short_prices[aa] - short_prices[ual])\n",
    "    \n",
    "    if std_30>0:  # means there is data available\n",
    "        zscore = (mavg_1 - mavg_30)/std_30\n",
    "        \n",
    "        if zscore > 0.5 and not context.shorting_spread:\n",
    "            # spread = AA - UAL\n",
    "            order_target_percent(aa, -0.5)\n",
    "            order_target_percent(ual, 0.5)\n",
    "            context.shorting_spread = True\n",
    "            context.long_on_spread = False\n",
    "        elif zscore < 1.0 and not context.long_on_spread:\n",
    "            order_target_percent(aa, 0.5)\n",
    "            order_target_percent(ual, -0.5)\n",
    "            context.shorting_spread = False\n",
    "            context.long_on_spread = True\n",
    "            \n",
    "        elif abs(zscore) < 0.1:\n",
    "            order_target_percent(aa, 0)\n",
    "            order_target_percent(ual, 0)\n",
    "            context.shorting_spread = False\n",
    "            context.long_on_spread = False\n",
    "            \n",
    "        record(z_score = zscore)\n",
    "            "
   ]
  },
  {
   "cell_type": "markdown",
   "metadata": {},
   "source": [
    "### Backtesting with data from 7/4/15 to 7/26/17, while benchmark (SPY) gained 23.41%, this alogrithm lost 19.31%. Horriable !!!!###\n",
    "Wild thinking for improvement: Instead of shorting, how about balance the position values according to z-score ?"
   ]
  },
  {
   "cell_type": "markdown",
   "metadata": {},
   "source": [
    "# Another example using IDE: Bollinger Bands"
   ]
  },
  {
   "cell_type": "code",
   "execution_count": null,
   "metadata": {
    "collapsed": true
   },
   "outputs": [],
   "source": [
    "\"\"\"\n",
    "It only runs in quantopian IDE.\n",
    "\n",
    "For this simple excercise, trading only happens when stock cross the 20 day averaged Bollinger bands, \n",
    "at 100% of buying or shorting\n",
    "\"\"\"\n",
    "# import quantopian.algorithm as algo\n",
    "# from quantopian.pipeline import Pipeline\n",
    "# from quantopian.pipeline.data.builtin import USEquityPricing\n",
    "# from quantopian.pipeline.filters import QTradableStocksUS\n",
    "import numpy as np\n",
    "\n",
    "def initialize(context):\n",
    "    context.jj = sid(4151)\n",
    "    \n",
    "    schedule_function(checkbands, date_rules.every_day(), time_rules.market_close(minutes = 30))\n",
    "    \n",
    "    context.short = False\n",
    "    context.long_on = False\n",
    "    \n",
    "    \n",
    "def checkbands(context, data):\n",
    "    cur_price = data.current(context.jj, \"price\")\n",
    "    prices = data.history(context.jj,\"price\", 20, \"1d\")\n",
    "    \n",
    "    avg = prices.mean()\n",
    "    std = prices.std()\n",
    "    lower_band = avg - 2*std\n",
    "    upper_band = avg + 2*std\n",
    "    \n",
    "    if cur_price <= lower_band and not context.long_on:\n",
    "        order_target_percent(context.jj, 1.0)\n",
    "        print(\"BUy\")\n",
    "        context.short = False\n",
    "        context.long_on = True\n",
    "    elif cur_price >= upper_band and not context.short:\n",
    "        order_target_percent(context.jj, -1.0)\n",
    "        context.short = True\n",
    "        context.long_on = False\n",
    "        print(\"shorting\")\n",
    "    else:\n",
    "        pass\n",
    "    \n",
    "    record(upper = upper_band,\n",
    "           lower = lower_band,\n",
    "           mavg = avg,\n",
    "           price = cur_price)"
   ]
  },
  {
   "cell_type": "markdown",
   "metadata": {},
   "source": [
    "Backtesting with data from 7/20/2015 to 7/20/2016, while SPY gained about 9.65%, this algorithm only gained 2.93%. This is probably mainly because the model is too simple. Besides that, what else to improve it ?"
   ]
  },
  {
   "cell_type": "code",
   "execution_count": null,
   "metadata": {
    "collapsed": true
   },
   "outputs": [],
   "source": []
  }
 ],
 "metadata": {
  "kernelspec": {
   "display_name": "Python 3",
   "language": "python",
   "name": "python3"
  },
  "language_info": {
   "codemirror_mode": {
    "name": "ipython",
    "version": 3
   },
   "file_extension": ".py",
   "mimetype": "text/x-python",
   "name": "python",
   "nbconvert_exporter": "python",
   "pygments_lexer": "ipython3",
   "version": "3.5.4"
  }
 },
 "nbformat": 4,
 "nbformat_minor": 2
}
